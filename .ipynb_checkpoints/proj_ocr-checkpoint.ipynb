{
 "cells": [
  {
   "cell_type": "markdown",
   "metadata": {},
   "source": [
    "                                            Automated text extraction"
   ]
  },
  {
   "cell_type": "code",
   "execution_count": 1,
   "metadata": {},
   "outputs": [
    {
     "ename": "ImportError",
     "evalue": "DLL load failed: The specified module could not be found.",
     "output_type": "error",
     "traceback": [
      "\u001b[1;31m---------------------------------------------------------------------------\u001b[0m",
      "\u001b[1;31mImportError\u001b[0m                               Traceback (most recent call last)",
      "\u001b[1;32m<ipython-input-1-464285bcd143>\u001b[0m in \u001b[0;36m<module>\u001b[1;34m\u001b[0m\n\u001b[0;32m      1\u001b[0m \u001b[1;32mfrom\u001b[0m \u001b[0m__future__\u001b[0m \u001b[1;32mimport\u001b[0m \u001b[0municode_literals\u001b[0m\u001b[1;33m,\u001b[0m \u001b[0mprint_function\u001b[0m\u001b[1;33m\u001b[0m\u001b[1;33m\u001b[0m\u001b[0m\n\u001b[1;32m----> 2\u001b[1;33m \u001b[1;32mimport\u001b[0m \u001b[0mcv2\u001b[0m\u001b[1;33m\u001b[0m\u001b[1;33m\u001b[0m\u001b[0m\n\u001b[0m\u001b[0;32m      3\u001b[0m \u001b[1;32mimport\u001b[0m \u001b[0mpytesseract\u001b[0m\u001b[1;33m\u001b[0m\u001b[1;33m\u001b[0m\u001b[0m\n\u001b[0;32m      4\u001b[0m \u001b[1;32mimport\u001b[0m \u001b[0mmatplotlib\u001b[0m\u001b[1;33m.\u001b[0m\u001b[0mpyplot\u001b[0m \u001b[1;32mas\u001b[0m \u001b[0mplt\u001b[0m\u001b[1;33m\u001b[0m\u001b[1;33m\u001b[0m\u001b[0m\n\u001b[0;32m      5\u001b[0m \u001b[1;32mimport\u001b[0m \u001b[0mspacy\u001b[0m\u001b[1;33m\u001b[0m\u001b[1;33m\u001b[0m\u001b[0m\n",
      "\u001b[1;31mImportError\u001b[0m: DLL load failed: The specified module could not be found."
     ]
    }
   ],
   "source": [
    "from __future__import unicode_literals, print_function\n",
    "import cv2\n",
    "import pytesseract\n",
    "import matplotlib.pyplot as plt\n",
    "import spacy\n",
    "import plac\n",
    "import random\n",
    "from pathlib import Path\n",
    "from tqdm import tqdm\n",
    "import fileinput\n",
    "from pdf2image import convert_from_path \n",
    "import os \n",
    "from PIL import Image  \n",
    "import sys "
   ]
  },
  {
   "cell_type": "code",
   "execution_count": 2,
   "metadata": {},
   "outputs": [],
   "source": [
    "def ocr(path):\n",
    "    PDF_file = path\n",
    "    pages = convert_from_path(PDF_file, 500) \n",
    "    image_counter = 1\n",
    "    for page in pages: \n",
    "        filename = \"page_\"+str(image_counter)+\".jpg\"\n",
    "        page.save(filename, 'JPEG') \n",
    "        image_counter = image_counter + 1\n",
    "    filelimit = image_counter-1\n",
    "    outfile = \"out_text.txt\"\n",
    "    f = open(outfile, \"a\") \n",
    "    output_text = \"\"\n",
    "    for i in range(1, filelimit + 1): \n",
    "        filename = \"page_\"+str(i)+\".jpg\"\n",
    "        text = str(((pytesseract.image_to_string(Image.open(filename))))) \n",
    "        text = text.replace('-\\n', '')     \n",
    "        output_text = output_text+text\n",
    "        f.write(text) \n",
    "    f.close() \n",
    "    return output_text"
   ]
  },
  {
   "cell_type": "code",
   "execution_count": 3,
   "metadata": {},
   "outputs": [],
   "source": [
    "output_text = ocr(\"extract.pdf\")"
   ]
  },
  {
   "cell_type": "code",
   "execution_count": 6,
   "metadata": {},
   "outputs": [
    {
     "name": "stdout",
     "output_type": "stream",
     "text": [
      "SAM tee PAID\n",
      "on HHO bok\n",
      "HOB CASH OFFICE\n",
      "\n",
      "TEMPORARY OCCUPATION LICENCE FOR\n",
      "AUTOMATED TELLER MACHINES\n",
      "\n",
      "This Licence Agreement is made on the hig day of spre mM ber - OS\n",
      "between the Housing and Development Board of HDB Hub, 480 Lorong 6 Toa Payoh Singapore\n",
      "310480 (“HDB”) and DBS Bank Ltd (UEN No : 196800306E) of 12 Marina Boulevard Singapore\n",
      "\n",
      "018982 (“Licensee”).\n",
      "\n",
      "WHEREAS HDB has agreed to grant to the Licensee a Licence to use and occupy the space at\n",
      "Blk 18 Toh Yi Drive #01-113A Singapore 590018 (herein referred to as \"Premises\") subject to\n",
      "the terms and conditions of this Agreement.\n",
      "\n",
      "It is hereby agreed as follows:\n",
      "\n",
      "1 In consideration of the payment by the Licensee a sum of $800.00 per month (exclusive\n",
      "of Goods and Services Tax) or such other sum as the HDB may notify in writing, HDB\n",
      "hereby authorises the Licensee to use and occupy the Premises for the sole purpose of\n",
      "setting up and maintaining an Automated Teller Machine (ATM) for a period of 3 years\n",
      "commencing from 01/12/2018, subject to renewal, at the discretion of HDB, and upon\n",
      "such terms and conditions as may be imposed by HDB. The licensee is required to give a\n",
      "written request to HDB 2 month prior to the expiry of this TOL to inform of their intention to\n",
      "renew this TOL.\n",
      "\n",
      "2 The Licensee hereby also undertakes with HDB as follows:\n",
      "(a) To pay without demand the monthly Licence fee and any other charges pursuant to\n",
      "the provisions of the Town Councils Act 1988 and any amendment thereto, or HDB,\n",
      "as the case may be. All payments, including of Goods and Services Tax (GST), are\n",
      "to be made on the 1st day of each month for that month.\n",
      "\n",
      "(b) To pay and indemnify HDB against GST chargeable in respect of any payment made\n",
      "by the Licensee under the terms of or in connection with this Agreement or in\n",
      "respect of any payment made by HDB where the Licensee has agreed to reimburse\n",
      "HDB for such payment.\n",
      "\n",
      "(c} Where applicable, to accept and pay the revised service and conservancy charges\n",
      "as may time to time varied by the Town Council pursuant to the Town Council Act or\n",
      "HDB pursuant to the Housing and Development Act, as the case may be.\n",
      "\n",
      "(d) lf the Licensee fails or neglects to pay the Licence Fees, service and conservancy\n",
      "charges and any other charges due at the time of the termination of the Agreement,\n",
      "to pay an interest at the rate of 12% per annum of the outstanding debt subject to a\n",
      "minimum of $50.00 or such other rate as HDB may from time to time and in its sole\n",
      "discretion, determined.\n",
      "\n",
      "(e) To pay on the execution of this Agreement, a sum of $856.00 or such other sum as\n",
      "may be determined by HDB being a deposit which is refundable free of interest by\n",
      "HDB to the Licensee at the expiry or termination of this Agreement. This deposit is to\n",
      "be subject however to all claims by HDB for arrears of Licence Fees and service and\n",
      "conservancy charges, charges for damaged or destroyed fixtures or fittings for\n",
      "repairs to and redecoration of the Premises howsoever occasioned other than by fair\n",
      "wear and tear of the cleaning of the Premises on their vacation by the Licensee and\n",
      "for all other breaches or non observance of covenants contained herein on the part\n",
      "of the Licensee to be performed and observed. The amount and nature of the said\n",
      "replacement of fitting repairs redecoration and cleaning and all claims of HDB are to\n",
      "\n",
      "X Fe\n",
      "\f",
      " \n",
      "\n",
      " \n",
      "\n",
      "10\n",
      "\n",
      "11\n",
      "\n",
      " \n",
      "\n",
      " \n",
      "\n",
      "be decided upon by HDB in its absolute discretion and the Licensee shail not dispute\n",
      "such sums. In the event of the deposit being insufficient to meet HDB’s claim, the\n",
      "Licensee shall compensate and pay HDB the difference between the said deposit\n",
      "and the amount so claimed by HDB.\n",
      "\n",
      "(f) where Licence Fees and/or service and conservancy and/or any other charges as\n",
      "may be imposed by HDB shall be in arrears whether wholly or in part and whether\n",
      "formally demanded or not, the Licensee shall pay to HDB such penalty or penalties\n",
      "for late payment/s as may be prescribed by HDB from time to time pursuant to\n",
      "section 27 of the Housing and Development Act (Chapter 129). The imposition of\n",
      "such penalty or penalties shall be without prejudice to any other right or action or\n",
      "remedy available to HDB by the terms of this Agreement and/or by law for any\n",
      "antecedent breach of covenant by the Licensee.\n",
      "\n",
      "(g) To pay all charges for the supply of water sanitation or electric light or power and all\n",
      "other utilities charges as may be determined by the SP Services Ltd to be payable\n",
      "from time to time.\n",
      "\n",
      "(h) The Licensee may apply to HDB to include new locations.\n",
      "\n",
      "(i) The terms and conditions of this agreement shall apply to each additional added by\n",
      "Licensee under Clause 2(h).\n",
      "\n",
      "The Licensee shall also not be entitled to any relocation benefits or benefits of any kind\n",
      "upon the expiry or termination of the Licence Agreement.\n",
      "\n",
      "The Licence shall not create a tenancy and shall not give the Licensee the exclusive right\n",
      "to the use and occupation of the Premises.\n",
      "\n",
      "The Licence is not transferable or assignable in any manner whatsoever.\n",
      "The Licence must be produced on demand to any authorised officer of HDB.\n",
      "\n",
      "The Licensee shall not carry out, suffer to be carried out or permit any alterations or\n",
      "structural changes whatsoever to the Premises without the prior written approval of HDB.\n",
      "\n",
      "(a) The Licensee shall keep the whole of the Premises in a clean, proper and sanitary\n",
      "condition to the satisfaction of HDB;\n",
      "\n",
      "(b) The Licensee shall be fully responsible for all equipment brought into the Premises\n",
      "by the Licensee and shall keep and maintain such equipment in good order and\n",
      "condition.\n",
      "\n",
      "The Licensee shall not place or permit to be placed, affixed or hung any article object or\n",
      "thing within or outside any part of the Premises without obtaining the prior written\n",
      "approval of HDB.\n",
      "\n",
      "The Licensee shall promptly comply with all conditions as may be imposed from time to\n",
      "time by HDB\n",
      "\n",
      "The Licensee remains in occupation of the Premises at its own risk. HDB accepts no\n",
      "liability whatsoever in the event of any injury or damage suffered by the Licensee or its\n",
      "employees, agents or any other person as a result of such occupation irrespective of\n",
      "whether such injury or damage is caused due to the negligence of any employee or agent\n",
      "of HDB or otherwise;\n",
      "\n",
      "X\n",
      "\f",
      " \n",
      "\n",
      " \n",
      "\n",
      "12\n",
      "\n",
      "13\n",
      "\n",
      "14\n",
      "\n",
      "15\n",
      "\n",
      "16\n",
      "\n",
      "17\n",
      "\n",
      "18\n",
      "\n",
      "19\n",
      "\n",
      "20\n",
      "\n",
      "21\n",
      "\n",
      "The Licensee shall hold HDB harmless and keep HDB indemnified, fully and completely\n",
      "at all times from and against any and all claims, demands, actions, proceedings,\n",
      "damages, costs, expenses, losses and other liabilities whatsoever including legal costs\n",
      "which HDB may suffer, incur or sustain due to, in connection with or arising whether\n",
      "directly or indirectly from the use and occupation of the Premises by the Licensee.\n",
      "\n",
      "HDB reserves the right to relocate the Licensee. The cost of relocation shall be borne by\n",
      "the Licensee\n",
      "\n",
      "The Licensee shall adopt and implement every reasonable precaution against the hazard\n",
      "of fire and shall comply with all recommendations of HDB as to fire safety measures as\n",
      "well as measures against any other hazards.\n",
      "\n",
      "The Licensee shall obtain the requisite approvals from the relevant authorities at the\n",
      "Licensee’s own cost. The use of the Premises is for the setting up and maintaining of\n",
      "Automated Teller Machine (ATM) and for no other purposes. Pending such approval or if\n",
      "approval is refused, the Licensee shall not be entitled to refund of any payments in\n",
      "whatsoever form made to HDB.\n",
      "\n",
      "The stamp fees (if any) in respect of the Licence shall be borne by the Licensee.\n",
      "\n",
      "The Licensee shall make good at its own costs and expenses in all respects and to the\n",
      "satisfaction of HDB any damage or deterioration occasioned to the Premises or any part\n",
      "of thereof or any adjacent or neighbouring premises or any part of the property of HDB\n",
      "due to or arising from any act default or negligence of the Licensee or invitees of the\n",
      "Licensee or any person who is authorised expressly or impliedly by the Licensee to enter\n",
      "into the Premises or any part thereof and to keep the HDB fully indemnified from and\n",
      "against all actions costs claims and liability whatsoever in respect thereof.\n",
      "\n",
      "(a) Either party may terminate this Agreement by giving one calendar month's notice to\n",
      "the other party without furnishing any reason whatsoever. Upon the cancellation or\n",
      "revocation of the Licence, HDB shall refund to the Licensee the Deposit without\n",
      "interest and subject to the deduction of any sum that may be due and owing from the\n",
      "Licensee to HDB, whether as indemnity or otherwise.\n",
      "\n",
      "(b) Notwithstanding Clause 18(a), the Licence may be revoked by HDB forthwith, if the\n",
      "Licensee commits a breach of any terms and conditions of this Agreement, and in\n",
      "the case of a remediable breach, fails to remedy such breach within the time limit\n",
      "specified in a written notice to be served on the Licensee by HDB.\n",
      "\n",
      "(a) Upon the expiry or termination of the Licence whether forthwith or otherwise, the\n",
      "Licensee shall at its own costs and expenses, restore the Premises to its original\n",
      "state to the satisfaction of the HDB. Where the Licensee shall fail to do so HDB shall\n",
      "have the right to restore the Premises to its original state and the cost thereof shall\n",
      "be recoverable forthwith as a debt due from the Licensee to the HDB.\n",
      "\n",
      "(b) Without prejudice to any of its rights and remedies against the Licensee, HDB may,\n",
      "at its discretion charge interest at the rate of twelve percent per annum, on any\n",
      "Licensee fees or other sums due and owing from the Licensee to HDB at the expiry\n",
      "or termination of this Agreement.\n",
      "\n",
      "Any notice or other communication between the parties shall be deemed to be sufficiently\n",
      "served on the day of service, if sent by fax or delivered at their respective addresses\n",
      "given in the opening paragraph, and two days after posting if sent by registered mail.\n",
      "\n",
      "This Agreement shall be governed by and construed according to Singapore law.\n",
      "\n",
      "x Fe\n",
      "\f",
      "22\n",
      "\n",
      " \n",
      "\n",
      "Any person, firm, corporation or organization who is not a party to this Agreement has no\n",
      "\n",
      "rights under the Contracts (Rights of Third Parties) Act to enforce any term of this\n",
      "\n",
      "Agreement.\n",
      "\n",
      "IN WITNESS WHEREOF the parties have signed this Agreement.\n",
      "\n",
      "THE SCHEDULE\n",
      "\n",
      "Floor Area of Premises — 15 sqm\n",
      "\n",
      "Signed by\n",
      "For and on behalf of the\n",
      "Housing & Development Board\n",
      "\n",
      "eee el\n",
      "\n",
      "  \n",
      "  \n",
      "\n",
      "High:\n",
      "\n",
      "In the presence of :\n",
      "Signed by / Right Thumb print\n",
      "\n",
      "2\n",
      "| JENNIFER THAM 2\n",
      "Xx VICE PRESIDENT +\n",
      "\n",
      "Name : enWiity! f\n",
      "\n",
      "NRIC No: Last ,\n",
      "\n",
      "For and on behalf of DBS Bank Ltd\n",
      "\n",
      " \n",
      "\n",
      "In the presence of\n",
      "\n",
      "NRIC No: >: gaeeRaAT).\n",
      "\n",
      "Properties & Lara Group\n",
      "Heusing &\n",
      "\n",
      " \n",
      "\n",
      "‘aalem oth Be senna ‘hu\n",
      "\n",
      "4amin £\n"
     ]
    }
   ],
   "source": [
    "op_txt_stp = output_text.strip()\n",
    "print(op_txt_stp)"
   ]
  },
  {
   "cell_type": "code",
   "execution_count": 9,
   "metadata": {},
   "outputs": [
    {
     "name": "stdout",
     "output_type": "stream",
     "text": [
      "SAM ORG\n",
      "the Housing and Development Board of HDB Hub ORG\n",
      "Singapore GPE\n",
      "DBS Bank Ltd ORG\n",
      "Marina Boulevard LOC\n",
      "Singapore GPE\n",
      "Yi Drive GPE\n",
      "Licensee GPE\n",
      "Goods and Services Tax ORG\n",
      "Premises LOC\n",
      "TOL ORG\n",
      "TOL ORG\n",
      "Goods and Services Tax ORG\n",
      "Town Council ORG\n",
      "the Town Council Act ORG\n",
      "the Housing and Development Act ORG\n",
      "Premises LOC\n",
      "Premises LOC\n",
      "Licensee GPE\n",
      "the Housing and Development Act ORG\n",
      "the SP Services Ltd ORG\n",
      "Licensee GPE\n",
      "Clause LOC\n",
      "Licensee GPE\n",
      "Licensee GPE\n",
      "Premises LOC\n",
      "Premises LOC\n",
      "Premises LOC\n",
      "Premises LOC\n",
      "Premises LOC\n",
      "Licensee GPE\n",
      "Premises LOC\n",
      "Licensee GPE\n",
      "Premises LOC\n",
      "Licensee LOC\n",
      "Licensee GPE\n",
      "Premises LOC\n",
      "Licensee GPE\n",
      "Premises LOC\n",
      "Premises LOC\n",
      "Notwithstanding Clause ORG\n",
      "Licensee GPE\n",
      "Licensee GPE\n",
      "Premises LOC\n",
      "Licensee GPE\n",
      "Premises LOC\n",
      "Licensee LOC\n",
      "Licensee LOC\n",
      "Singapore GPE\n",
      "Premises LOC\n",
      "the\n",
      "Housing & Development Board ORG\n",
      "NRIC ORG\n",
      "DBS Bank Ltd ORG\n",
      "Heusing &\n",
      "\n",
      " \n",
      "\n",
      " ORG\n"
     ]
    }
   ],
   "source": [
    "nlp = spacy.load('en_core_web_sm') \n",
    "text = op_txt_stp\n",
    "doc = nlp(text)\n",
    "name = []\n",
    "nric = []\n",
    "for ent in doc.ents:\n",
    "    if ent.label_==\"ORG\" or ent.label_ == \"GPE\" or ent.label_== \"LOC\":\n",
    "        print(ent.text , ent.label_)"
   ]
  },
  {
   "cell_type": "code",
   "execution_count": 29,
   "metadata": {},
   "outputs": [],
   "source": [
    "TRAIN_DATA = [('This Licence Agreement is made on the hig day of spre mM ber - OS between the Housing and Development Board of HDB Hub, 480 Lorong 6 Toa Payoh Singapore 310480 (“HDB”) and DBS Bank Ltd (UEN No : 196800306E) of 12 Marina Boulevard Singapore 018982', {'entities': [(240, 246, 'TP'), (230, 239, 'TC'), (210, 229, 'TA'), (172, 184, 'TN'), (153, 159, 'LP'), (143, 152, 'LC'), (120, 142, 'LA'), (74, 118, 'LN')]}), ('For and on behalf of DBS Bank Ltd', {'entities': [(21, 33, 'TN')]}), ('HEREAS HDB has agreed to grant to the Licensee a Licence to use and occupy the space at Blk 18 Toh Yi Drive #01-113A Singapore 590018 (herein referred to as \"Premises\") subject to the terms and conditions of this Agreement.', {'entities': [(7, 10, 'LN')]}), ('This Licence Agreement is made on the hig day of spre mM ber - OS between Aetos Security Management, 10 Shenton Way MAS Building Singapore 079117 (“Aetos\") and Bank of Singapore (UEN No : 1233453451A) of 63 Market Street Singapore 876345', {'entities': [(231, 237, 'TP'), (221, 230, 'TC'), (204, 220, 'TA'), (160, 177, 'TN'), (139, 145, 'LP'), (129, 138, 'LC'), (101, 128, 'LA'), (74, 99, 'LN')]}), ('For and on behalf of Bank of Singapore', {'entities': [(21, 38, 'TN')]}), ('HEREAS Aetos has agreed to grant to the Licensee a Licence to use and occupy the space at Blk 18 Toh Yi Drive #01-113A Singapore 590018 (herein referred to as \"Premises\") subject to the terms and conditions of this Agreement.', {'entities': [(7, 12, 'LN')]}), ('This Licence Agreement is made on the hig day of spre mM ber - OS between Aspial Corporation, 101 kitchener road 02-17 jalan besar plaza Singapore 310480 (“Aspial”) and OCBC Bank (UEN No : 8766543541V) of 65 Chulia Street Singapore 987123', {'entities': [(232, 238, 'TP'), (222, 231, 'TC'), (205, 221, 'TA'), (169, 178, 'TN'), (147, 154, 'LP'), (137, 146, 'LC'), (94, 136, 'LA'), (74, 92, 'LN')]}), ('For and on behalf of OCBC Bank', {'entities': [(21, 30, 'TN')]}), ('HEREAS Aspial has agreed to grant to the Licensee a Licence to use and occupy the space at Blk 18 Toh Yi Drive #01-113A Singapore 590018 (herein referred to as \"Premises\") subject to the terms and conditions of this Agreement.', {'entities': [(7, 13, 'LN')]}), ('This Licence Agreement is made on the hig day of spre mM ber - OS between Ayam Brand, MDIS Building 190 Changi Road #02-01 Singapore 456345 (“Ayam”) and United Overseas Bank (UEN No : 3452348762S) of 80 Raffles Place Singapore 786409', {'entities': [(227, 233, 'TP'), (217, 226, 'TC'), (200, 216, 'TA'), (153, 173, 'TN'), (133, 139, 'LP'), (123, 132, 'LC'), (86, 122, 'LA'), (74, 84, 'LN')]}), ('For and on behalf of United Overseas Bank', {'entities': [(21, 41, 'TN')]}), ('HEREAS Ayam has agreed to grant to the Licensee a Licence to use and occupy the space at Blk 18 Toh Yi Drive #01-113A Singapore 590018 (herein referred to as \"Premises\") subject to the terms and conditions of this Agreement.', {'entities': [(7, 11, 'LN')]}),('This Licence Agreement is made on the hig day of spre mM ber - OS between Wilmar International, 460 Alexandra Road 22-06 PSA Building Singapore 456384 (“Wilmar”) and Chung Khiaw Bank (UEN No : 835782547F) of 180 Cecil Street Singapore 018982 (“Licensee”).', {'entities': [(235, 241, 'TP'), (225, 234, 'TC'), (208, 224, 'TA'), (166, 182, 'TN'), (153, 159, 'LN'), (144, 150, 'LP'), (134, 143, 'LC'), (96, 133, 'LA'), (74, 94, 'LN')]}), ('For and on behalf of Chung Khiaw Bank', {'entities': [(21, 37, 'TN')]}), ('HEREAS Wilmar has agreed to grant to the Licensee a Licence to use and occupy the space at Blk 18 Toh Yi Drive #01-113A Singapore 590018 (herein referred to as \"Premises\") subject to the terms and conditions of this Agreement.', {'entities': [(7, 13, 'LN')]}), ('This Licence Agreement is made on the hig day of spre mM ber - OS between Trafigura Group, 52 Greenleaf Drive Singapore 893283 (“Trafigura”) and Hongkong and Shanghai Banking Corporation (UEN No : 847678273R) of 21 Collyer Quay Singapore 982783 (“Licensee”).', {'entities': [(238, 244, 'TP'), (228, 238, 'TC'), (212, 227, 'TA'), (145, 186, 'TN'), (129, 138, 'LN'), (120, 126, 'LP'), (110, 119, 'LC'), (91, 109, 'LA'), (74, 89, 'LN')]}), ('For and on behalf of Hongkong and Shanghai Banking Corporation', {'entities': [(21, 62, 'TN')]}), ('HEREAS Trafigura has agreed to grant to the Licensee a Licence to use and occupy the space at Blk 18 Toh Yi Drive #01-113A Singapore 590018 (herein referred to as \"Premises\") subject to the terms and conditions of this Agreement.', {'entities': [(7, 16, 'LN')]}), ('This Licence Agreement is made on the hig day of spre mM ber - OS between AIBI International, 10 Sinaran Drive, 02-02 Square 2 Singapore 847278 (“AIBI”) and Indian Bank (UEN No : 847678273R) of 3 Raffles Place Singapore 823412 (“Licensee”).', {'entities': [(220, 226, 'TP'), (210, 219, 'TC'), (194, 209, 'TA'), (157, 169, 'TN'), (146, 150, 'LN'), (137, 143, 'LP'), (127, 137, 'LC'), (94, 126, 'LA'), (74, 92, 'LN')]}), ('For and on behalf of Indian Bank', {'entities': [(21, 32, 'TN')]}), ('HEREAS AIBI has agreed to grant to the Licensee a Licence to use and occupy the space at Blk 18 Toh Yi Drive #01-113A Singapore 590018 (herein referred to as \"Premises\") subject to the terms and conditions of this Agreement.', {'entities': [(7, 11, 'LN')]}), ('This Licence Agreement is made on the hig day of spre mM ber - OS between Boustead Singapore, 6001 Beach Road 02-37 Golden Mile Tower Singapore 847278 (“Boustead”) and Ping An Bank (UEN No : 847678273R) of 80 Pasir Panjang Road Singapore 987234 (“Licensee”).', {'entities': [(238, 244, 'TP'), (228, 237, 'TC'), (206, 227, 'TA'), (168, 180, 'TN'), (153, 161, 'LN'), (144, 150, 'LP'), (134, 143, 'LC'), (94, 133, 'LA'), (74, 92, 'LN')]}), ('For and on behalf of Indian Bank', {'entities': [(21, 32, 'TN')]}), ('HEREAS Boustead has agreed to grant to the Licensee a Licence to use and occupy the space at Blk 18 Toh Yi Drive #01-113A Singapore 590018 (herein referred to as \"Premises\") subject to the terms and conditions of this Agreement.', {'entities': [(7, 16, 'LN')]})]"
   ]
  },
  {
   "cell_type": "code",
   "execution_count": 50,
   "metadata": {},
   "outputs": [],
   "source": [
    "#pr\n",
    "\n",
    "TRAIN_DATA = [('This Licence Agreement is made on the hig day of spre mM ber - OS between the Housing and Development Board of HDB Hub, 480 Lorong 6 Toa Payoh Singapore 310480 (“HDB”) and DBS Bank Ltd (UEN No : 196800306E) of 12 Marina Boulevard Singapore 018982', {'entities': [(240, 246, 'TP'), (230, 239, 'TC'), (210, 229, 'TA'), (172, 184, 'TN'), (153, 159, 'LP'), (143, 152, 'LC'), (120, 142, 'LA'), (74, 118, 'LN')]}), ('For and on behalf of DBS Bank Ltd', {'entities': [(21, 33, 'TN')]}), ('HEREAS HDB has agreed to grant to the Licensee a Licence to use and occupy the space at Blk 18 Toh Yi Drive #01-113A Singapore 590018 (herein referred to as \"Premises\") subject to the terms and conditions of this Agreement.', {'entities': [(7, 10, 'LN')]}), ('This Licence Agreement is made on the hig day of spre mM ber - OS between Aetos Security Management, 10 Shenton Way MAS Building Singapore 079117 (“Aetos\") and Bank of Singapore (UEN No : 1233453451A) of 63 Market Street Singapore 876345', {'entities': [(231, 237, 'TP'), (221, 230, 'TC'), (204, 220, 'TA'), (160, 177, 'TN'), (139, 145, 'LP'), (129, 138, 'LC'), (101, 128, 'LA'), (74, 99, 'LN')]}), ('For and on behalf of Bank of Singapore', {'entities': [(21, 38, 'TN')]}), ('HEREAS Aetos has agreed to grant to the Licensee a Licence to use and occupy the space at Blk 18 Toh Yi Drive #01-113A Singapore 590018 (herein referred to as \"Premises\") subject to the terms and conditions of this Agreement.', {'entities': [(7, 12, 'LN')]}), ('This Licence Agreement is made on the hig day of spre mM ber - OS between Aspial Corporation, 101 kitchener road 02-17 jalan besar plaza Singapore 310480 (“Aspial”) and OCBC Bank (UEN No : 8766543541V) of 65 Chulia Street Singapore 987123', {'entities': [(232, 238, 'TP'), (222, 231, 'TC'), (205, 221, 'TA'), (169, 178, 'TN'), (147, 154, 'LP'), (137, 146, 'LC'), (94, 136, 'LA'), (74, 92, 'LN')]}), ('For and on behalf of OCBC Bank', {'entities': [(21, 30, 'TN')]}), ('HEREAS Aspial has agreed to grant to the Licensee a Licence to use and occupy the space at Blk 18 Toh Yi Drive #01-113A Singapore 590018 (herein referred to as \"Premises\") subject to the terms and conditions of this Agreement.', {'entities': [(7, 13, 'LN')]}), ('This Licence Agreement is made on the hig day of spre mM ber - OS between Ayam Brand, MDIS Building 190 Changi Road #02-01 Singapore 456345 (“Ayam”) and United Overseas Bank (UEN No : 3452348762S) of 80 Raffles Place Singapore 786409', {'entities': [(227, 233, 'TP'), (217, 226, 'TC'), (200, 216, 'TA'), (153, 173, 'TN'), (133, 139, 'LP'), (123, 132, 'LC'), (86, 122, 'LA'), (74, 84, 'LN')]}), ('For and on behalf of United Overseas Bank', {'entities': [(21, 41, 'TN')]}), ('HEREAS Ayam has agreed to grant to the Licensee a Licence to use and occupy the space at Blk 18 Toh Yi Drive #01-113A Singapore 590018 (herein referred to as \"Premises\") subject to the terms and conditions of this Agreement.', {'entities': [(7, 11, 'LN')]}),\n",
    "             ('This Licence Agreement is made on the hig day of spre mM ber - OS between Wilmar International, 460 Alexandra Road 22-06 PSA Building Singapore 456384 (“Wilmar”) and Chung Khiaw Bank (UEN No : 835782547F) of 180 Cecil Street Singapore 018982 (“Licensee”).', {'entities': [(235, 241, 'TP'), (225, 234, 'TC'), (208, 224, 'TA'), (166, 182, 'TN'), (153, 159, 'LN'), (144, 150, 'LP'), (134, 143, 'LC'), (96, 133, 'LA'), (74, 94, 'LN')]}), ('For and on behalf of Chung Khiaw Bank', {'entities': [(21, 37, 'TN')]}), ('HEREAS Wilmar has agreed to grant to the Licensee a Licence to use and occupy the space at Blk 18 Toh Yi Drive #01-113A Singapore 590018 (herein referred to as \"Premises\") subject to the terms and conditions of this Agreement.', {'entities': [(7, 13, 'LN')]}), ('This Licence Agreement is made on the hig day of spre mM ber - OS between Trafigura Group, 52 Greenleaf Drive Singapore 893283 (“Trafigura”) and Hongkong and Shanghai Banking Corporation (UEN No : 847678273R) of 21 Collyer Quay Singapore 982783 (“Licensee”).', {'entities': [(238, 244, 'TP'), (228, 238, 'TC'), (212, 227, 'TA'), (145, 186, 'TN'), (129, 138, 'LN'), (120, 126, 'LP'), (110, 119, 'LC'), (91, 109, 'LA'), (74, 89, 'LN')]}), ('For and on behalf of Hongkong and Shanghai Banking Corporation', {'entities': [(21, 62, 'TN')]}), ('HEREAS Trafigura has agreed to grant to the Licensee a Licence to use and occupy the space at Blk 18 Toh Yi Drive #01-113A Singapore 590018 (herein referred to as \"Premises\") subject to the terms and conditions of this Agreement.', {'entities': [(7, 16, 'LN')]}), ('This Licence Agreement is made on the hig day of spre mM ber - OS between AIBI International, 10 Sinaran Drive, 02-02 Square 2 Singapore 847278 (“AIBI”) and Indian Bank (UEN No : 847678273R) of 3 Raffles Place Singapore 823412 (“Licensee”).', {'entities': [(220, 226, 'TP'), (210, 219, 'TC'), (194, 209, 'TA'), (157, 169, 'TN'), (146, 150, 'LN'), (137, 143, 'LP'), (127, 137, 'LC'), (94, 126, 'LA'), (74, 92, 'LN')]}), ('For and on behalf of Indian Bank', {'entities': [(21, 32, 'TN')]}), ('HEREAS AIBI has agreed to grant to the Licensee a Licence to use and occupy the space at Blk 18 Toh Yi Drive #01-113A Singapore 590018 (herein referred to as \"Premises\") subject to the terms and conditions of this Agreement.', {'entities': [(7, 11, 'LN')]}), ('This Licence Agreement is made on the hig day of spre mM ber - OS between Boustead Singapore, 6001 Beach Road 02-37 Golden Mile Tower Singapore 847278 (“Boustead”) and Ping An Bank (UEN No : 847678273R) of 80 Pasir Panjang Road Singapore 987234 (“Licensee”).', {'entities': [(238, 244, 'TP'), (228, 237, 'TC'), (206, 227, 'TA'), (168, 180, 'TN'), (153, 161, 'LN'), (144, 150, 'LP'), (134, 143, 'LC'), (94, 133, 'LA'), (74, 92, 'LN')]}), ('For and on behalf of Indian Bank', {'entities': [(21, 32, 'TN')]}), ('HEREAS Boustead has agreed to grant to the Licensee a Licence to use and occupy the space at Blk 18 Toh Yi Drive #01-113A Singapore 590018 (herein referred to as \"Premises\") subject to the terms and conditions of this Agreement.', {'entities': [(7, 16, 'LN')]}),\n",
    "             ('This Licence Agreement is made on the hig day of spre mM ber - OS between Sysco, 1813 Wakefield Street Pennsylvania United States 19107(“Sysco”) and JPMorgan Chase of 3732 Kennedy Court Maine United States 04259For and on behalf of JPMorgan ChaseHEREAS Sysco has agreed to grant to the Licensee a Licence to use and occupy the space at Blk 18 Toh Yi Drive #01-113A Singapore 590018 (herein referred to as \"Premises\") subject to the terms and conditions of this Agreement.', {'entities': [(206, 211, 'TP'), (192, 205, 'TCO'), (186, 191, 'TCI'), (167, 185, 'TA'), (149, 163, 'TN'), (130, 135, 'LP'), (116, 129, 'LCO'), (103, 115, 'LCI'), (81, 102, 'LA'), (74, 79, 'LN')]}), ('This Licence Agreement is made on the hig day of spre mM ber - OS between Pfizer, 3146 Brown Bear Drive California United States 92501(“Pfizer”) and Bank of America of 4281 Roosevelt Street California United States 94941For and on behalf of Bank of AmericaHEREAS Pfizer has agreed to grant to the Licensee a Licence to use and occupy the space at Blk 18 Toh Yi Drive #01-113A Singapore 590018 (herein referred to as \"Premises\") subject to the terms and conditions of this Agreement.', {'entities': [(215, 220, 'TP'), (201, 214, 'TCO'), (190, 200, 'TCI'), (168, 189, 'TA'), (149, 164, 'TN'), (129, 134, 'LP'), (115, 128, 'LCO'), (104, 114, 'LCI'), (82, 103, 'LA'), (74, 80, 'LN')]}), ('This Licence Agreement is made on the hig day of spre mM ber - OS between John Deere, 1987 Warner Street North Carolina United States 27706(“John Deere”) and Citigroup of 1440 Hershell Hollow Road New Jersey United States 08313For and on behalf of CitigroupHEREAS John Deere has agreed to grant to the Licensee a Licence to use and occupy the space at Blk 18 Toh Yi Drive #01-113A Singapore 590018 (herein referred to as \"Premises\") subject to the terms and conditions of this Agreement.', {'entities': [(222, 227, 'TP'), (208, 221, 'TCO'), (197, 207, 'TCI'), (171, 196, 'TA'), (158, 167, 'TN'), (134, 139, 'LP'), (120, 133, 'LCO'), (105, 119, 'LCI'), (86, 104, 'LA'), (74, 84, 'LN')]}), ('This Licence Agreement is made on the hig day of spre mM ber - OS between Tech Data, 3636 Joseph Street Wisconsin United States 53202(“Tech Data”) and Wells Fargo of 2931 Hillcrest Avenue Massachusetts United States 02199For and on behalf of Wells FargoHEREAS Tech Data has agreed to grant to the Licensee a Licence to use and occupy the space at Blk 18 Toh Yi Drive #01-113A Singapore 590018 (herein referred to as \"Premises\") subject to the terms and conditions of this Agreement.', {'entities': [(216, 221, 'TP'), (202, 215, 'TCO'), (188, 201, 'TCI'), (166, 187, 'TA'), (151, 162, 'TN'), (128, 133, 'LP'), (114, 127, 'LCO'), (104, 113, 'LCI'), (85, 103, 'LA'), (74, 83, 'LN')]}), ('This Licence Agreement is made on the hig day of spre mM ber - OS between Publix, 945 Harvest Lane California United States 90017(“Publix”) and Goldman Sachs of 4431 Walnut Hill Drive Ohio United States 45204For and on behalf of Goldman SachsHEREAS Publix has agreed to grant to the Licensee a Licence to use and occupy the space at Blk 18 Toh Yi Drive #01-113A Singapore 590018 (herein referred to as \"Premises\") subject to the terms and conditions of this Agreement.', {'entities': [(203, 208, 'TP'), (189, 202, 'TCO'), (184, 188, 'TCI'), (166, 183, 'TA'), (144, 157, 'TN'), (124, 129, 'LP'), (110, 123, 'LCO'), (99, 109, 'LCI'), (82, 98, 'LA'), (74, 80, 'LN')]}), ('This Licence Agreement is made on the hig day of spre mM ber - OS between USAA, 90 Maple Street California United States 92801(“USAA”) and Morgan Stanley of 2713 Ritter Avenue Michigan United States 48075For and on behalf of Morgan StanleyHEREAS USAA has agreed to grant to the Licensee a Licence to use and occupy the space at Blk 18 Toh Yi Drive #01-113A Singapore 590018 (herein referred to as \"Premises\") subject to the terms and conditions of this Agreement.', {'entities': [(199, 204, 'TP'), (185, 198, 'TCO'), (176, 184, 'TCI'), (157, 175, 'TA'), (139, 153, 'TN'), (121, 126, 'LP'), (107, 120, 'LCO'), (96, 106, 'LCI'), (80, 95, 'LA'), (74, 78, 'LN')]}), ('This Licence Agreement is made on the hig day of spre mM ber - OS between Exelon, 2706 Rollins Road Nebraska United States 68801(“Exelon”) and U.S. Bancorp of 3699 Bryan Street North Carolina United States 27406For and on behalf of U.S. BancorpHEREAS Exelon has agreed to grant to the Licensee a Licence to use and occupy the space at Blk 18 Toh Yi Drive #01-113A Singapore 590018 (herein referred to as \"Premises\") subject to the terms and conditions of this Agreement.', {'entities': [(206, 211, 'TP'), (192, 205, 'TCO'), (177, 191, 'TCI'), (159, 176, 'TA'), (143, 155, 'TN'), (123, 128, 'LP'), (109, 122, 'LCO'), (100, 108, 'LCI'), (82, 99, 'LA'), (74, 80, 'LN')]}), ('This Licence Agreement is made on the hig day of spre mM ber - OS between Abbott Laboratories, 2342 Jones Avenue Oklahoma United States 74018(“Abbott”) and Truist Financial of 4425 Barrington Court Arkansas United States 72440For and on behalf of Truist FinancialHEREAS Abbott has agreed to grant to the Licensee a Licence to use and occupy the space at Blk 18 Toh Yi Drive #01-113A Singapore 590018 (herein referred to as \"Premises\") subject to the terms and conditions of this Agreement.', {'entities': [(221, 226, 'TP'), (207, 220, 'TCO'), (198, 206, 'TCI'), (176, 197, 'TA'), (156, 172, 'TN'), (136, 141, 'LP'), (122, 135, 'LCO'), (113, 121, 'LCI'), (95, 112, 'LA'), (74, 93, 'LN')]}), ('This Licence Agreement is made on the hig day of spre mM ber - OS between Raytheon Company, 362 Libby Street California United States 90247(“Raytheon”) and PNC Financial Services of 3206 Hart Ridge Road Michigan United States 48601For and on behalf of PNC Financial ServicesHEREAS Raytheon has agreed to grant to the Licensee a Licence to use and occupy the space at Blk 18 Toh Yi Drive #01-113A Singapore 590018 (herein referred to as \"Premises\") subject to the terms and conditions of this Agreement.', {'entities': [(226, 231, 'TP'), (212, 225, 'TCO'), (203, 211, 'TCI'), (182, 202, 'TA'), (156, 178, 'TN'), (134, 139, 'LP'), (120, 133, 'LCO'), (109, 119, 'LCI'), (92, 108, 'LA'), (74, 90, 'LN')]}), ('This Licence Agreement is made on the hig day of spre mM ber - OS between Paccar, 172 Kenwood Place Florida United States 33176(“Paccar”) and Capital One of 3172 Lilac Lane Iowa United States 50854For and on behalf of Capital OneHEREAS Paccar has agreed to grant to the Licensee a Licence to use and occupy the space at Blk 18 Toh Yi Drive #01-113A Singapore 590018 (herein referred to as \"Premises\") subject to the terms and conditions of this Agreement.', {'entities': [(192, 197, 'TP'), (178, 191, 'TCO'), (173, 177, 'TCI'), (157, 172, 'TA'), (142, 153, 'TN'), (122, 127, 'LP'), (108, 121, 'LCO'), (100, 107, 'LCI'), (82, 99, 'LA'), (74, 80, 'LN')]}), ('This Licence Agreement is made on the hig day of spre mM ber - OS between Duke Energy, 1211 Woodbridge Lane Michigan United States 48126(“Duke”) and State Street Corporation of 453 Adamsville Road North Dakota United States 58535For and on behalf of State Street CorporationHEREAS Duke has agreed to grant to the Licensee a Licence to use and occupy the space at Blk 18 Toh Yi Drive #01-113A Singapore 590018 (herein referred to as \"Premises\") subject to the terms and conditions of this Agreement.', {'entities': [(224, 229, 'TP'), (210, 223, 'TCO'), (197, 209, 'TCI'), (177, 196, 'TA'), (149, 173, 'TN'), (131, 136, 'LP'), (117, 130, 'LCO'), (108, 116, 'LCI'), (87, 107, 'LA'), (74, 85, 'LN')]}), ('This Licence Agreement is made on the hig day of spre mM ber - OS between Baker Hughes, 4943 Liberty Avenue California United States 92704(“Baker”) and TIAA of 200 Stoney Lonesome Road New York United States 16938For and on behalf of TIAAHEREAS Baker has agreed to grant to the Licensee a Licence to use and occupy the space at Blk 18 Toh Yi Drive #01-113A Singapore 590018 (herein referred to as \"Premises\") subject to the terms and conditions of this Agreement.', {'entities': [(208, 213, 'TP'), (194, 207, 'TCO'), (185, 193, 'TCI'), (160, 184, 'TA'), (152, 156, 'TN'), (133, 138, 'LP'), (119, 132, 'LCO'), (108, 118, 'LCI'), (88, 107, 'LA'), (74, 86, 'LN')]}), ('This Licence Agreement is made on the hig day of spre mM ber - OS between Amgen, 1122 Brown Bear Drive California United States 92390(“Amgen”) and The Bank of New York Mellon of 1577 Rainy Day Drive Massachusetts United States 02141For and on behalf of The Bank of New York MellonHEREAS Amgen has agreed to grant to the Licensee a Licence to use and occupy the space at Blk 18 Toh Yi Drive #01-113A Singapore 590018 (herein referred to as \"Premises\") subject to the terms and conditions of this Agreement.', {'entities': [(227, 232, 'TP'), (213, 226, 'TCO'), (199, 212, 'TCI'), (178, 198, 'TA'), (147, 174, 'TN'), (128, 133, 'LP'), (114, 127, 'LCO'), (103, 113, 'LCI'), (81, 102, 'LA'), (74, 79, 'LN')]}), ('This Licence Agreement is made on the hig day of spre mM ber - OS between Nucor, 4342 Gandy Street New York United States 13202(“Nucor”) and BMO Harris Bank of 1443 Lewis Street Illinois United States 60601For and on behalf of BMO Harris BankHEREAS Nucor has agreed to grant to the Licensee a Licence to use and occupy the space at Blk 18 Toh Yi Drive #01-113A Singapore 590018 (herein referred to as \"Premises\") subject to the terms and conditions of this Agreement.', {'entities': [(201, 206, 'TP'), (187, 200, 'TCO'), (178, 186, 'TCI'), (160, 177, 'TA'), (141, 156, 'TN'), (122, 127, 'LP'), (108, 121, 'LCO'), (99, 107, 'LCI'), (81, 98, 'LA'), (74, 79, 'LN')]}), ('This Licence Agreement is made on the hig day of spre mM ber - OS between Aflac, 773 Calvin Street Washington United States 98237(“Aflac”) and State Farm of 38 Taylor Street New York United States 10541For and on behalf of State FarmHEREAS Aflac has agreed to grant to the Licensee a Licence to use and occupy the space at Blk 18 Toh Yi Drive #01-113A Singapore 590018 (herein referred to as \"Premises\") subject to the terms and conditions of this Agreement.'\n",
    "             , {'entities': [(197, 202, 'TP'), (183, 196, 'TCO'), (174, 182, 'TCI'), (157, 173, 'TA'), (143, 153, 'TN'), (124, 129, 'LP'), (110, 123, 'LCO'), (99, 109, 'LCI'), (81, 98, 'LA'), (74, 79, 'LN')]}), ('This Licence Agreement is made on the hig day of spre mM ber - OS between Glencore, 57 Golf Road Swintonmill United Kingdom TD12 8QY(“Glencore”) and HSBC of 24 Old Edinburgh Road Beech United Kingdom GU34 7UHFor and on behalf of HSBCHEREAS Glencore has agreed to grant to the Licensee a Licence to use and occupy the space at Blk 18 Toh Yi Drive #01-113A Singapore 590018 (herein referred to as \"Premises\") subject to the terms and conditions of this Agreement.', {'entities': [(200, 208, 'TP'), (185, 199, 'TCO'), (179, 184, 'TCI'), (157, 178, 'TA'), (149, 153, 'TN'), (124, 132, 'LP'), (109, 123, 'LCO'), (97, 108, 'LCI'), (84, 96, 'LA'), (74, 82, 'LN')]}), ('This Licence Agreement is made on the hig day of spre mM ber - OS between Centrica, 13 Fox Lane Bodham Street United Kingdom NR25 0BL(“Centrica”) and Barclays of 86 Simone Weil Avenue Well United Kingdom RG29 6UJFor and on behalf of BarclaysHEREAS Centrica has agreed to grant to the Licensee a Licence to use and occupy the space at Blk 18 Toh Yi Drive #01-113A Singapore 590018 (herein referred to as \"Premises\") subject to the terms and conditions of this Agreement.', {'entities': [(204, 212, 'TP'), (189, 203, 'TCO'), (184, 188, 'TCI'), (162, 183, 'TA'), (150, 158, 'TN'), (125, 133, 'LP'), (110, 124, 'LCO'), (96, 109, 'LCI'), (84, 95, 'LA'), (74, 82, 'LN')]}), ('This Licence Agreement is made on the hig day of spre mM ber - OS between Alliance Boots, 11 Chemin Des Bateliers Aquitaine France 64600(“Alliance”) and BNP Paribas of 99 Avenue des Pr\\'es Auvergne France 03100For and on behalf of BNP ParibasHEREAS Alliance has agreed to grant to the Licensee a Licence to use and occupy the space at Blk 18 Toh Yi Drive #01-113A Singapore 590018 (herein referred to as \"Premises\") subject to the terms and conditions of this Agreement.', {'entities': [(204, 209, 'TP'), (197, 203, 'TCO'), (188, 196, 'TCI'), (168, 187, 'TA'), (153, 164, 'TN'), (131, 136, 'LP'), (124, 130, 'LCO'), (114, 123, 'LCI'), (90, 113, 'LA'), (74, 88, 'LN')]})\n",
    "             ]\n"
   ]
  },
  {
   "cell_type": "code",
   "execution_count": 52,
   "metadata": {},
   "outputs": [
    {
     "name": "stdout",
     "output_type": "stream",
     "text": [
      "0\n"
     ]
    }
   ],
   "source": [
    "with open(\"C:\\\\Users\\\\Sivaraman\\\\Desktop\\\\Py_projects\\\\project_ocr\\\\train_data\\\\train3.txt\",\"r\") as fil:\n",
    "    c=0\n",
    "    for line in fil:\n",
    "        TRAIN_DATA.append((line, {'entities': []}))\n",
    "print(c)\n",
    "fil.close()"
   ]
  },
  {
   "cell_type": "code",
   "execution_count": 53,
   "metadata": {},
   "outputs": [
    {
     "data": {
      "text/plain": [
       "[('HEREAS AIBI has agreed to grant to the Licensee a Licence to use and occupy the space at Blk 18 Toh Yi Drive #01-113A Singapore 590018 (herein referred to as \"Premises\") subject to the terms and conditions of this Agreement.',\n",
       "  {'entities': [(7, 11, 'LN')]}),\n",
       " ('This Licence Agreement is made on the hig day of spre mM ber - OS between Ayam Brand, MDIS Building 190 Changi Road #02-01 Singapore 456345 (“Ayam”) and United Overseas Bank (UEN No : 3452348762S) of 80 Raffles Place Singapore 786409',\n",
       "  {'entities': [(227, 233, 'TP'),\n",
       "    (217, 226, 'TC'),\n",
       "    (200, 216, 'TA'),\n",
       "    (153, 173, 'TN'),\n",
       "    (133, 139, 'LP'),\n",
       "    (123, 132, 'LC'),\n",
       "    (86, 122, 'LA'),\n",
       "    (74, 84, 'LN')]}),\n",
       " ('For and on behalf of Indian Bank', {'entities': [(21, 32, 'TN')]}),\n",
       " ('This Licence Agreement is made on the hig day of spre mM ber - OS between Alliance Boots, 11 Chemin Des Bateliers Aquitaine France 64600(“Alliance”) and BNP Paribas of 99 Avenue des Pr\\'es Auvergne France 03100For and on behalf of BNP ParibasHEREAS Alliance has agreed to grant to the Licensee a Licence to use and occupy the space at Blk 18 Toh Yi Drive #01-113A Singapore 590018 (herein referred to as \"Premises\") subject to the terms and conditions of this Agreement.',\n",
       "  {'entities': [(204, 209, 'TP'),\n",
       "    (197, 203, 'TCO'),\n",
       "    (188, 196, 'TCI'),\n",
       "    (168, 187, 'TA'),\n",
       "    (153, 164, 'TN'),\n",
       "    (131, 136, 'LP'),\n",
       "    (124, 130, 'LCO'),\n",
       "    (114, 123, 'LCI'),\n",
       "    (90, 113, 'LA'),\n",
       "    (74, 88, 'LN')]}),\n",
       " ('This Licence Agreement is made on the hig day of spre mM ber - OS between Boustead Singapore, 6001 Beach Road 02-37 Golden Mile Tower Singapore 847278 (“Boustead”) and Ping An Bank (UEN No : 847678273R) of 80 Pasir Panjang Road Singapore 987234 (“Licensee”).',\n",
       "  {'entities': [(238, 244, 'TP'),\n",
       "    (228, 237, 'TC'),\n",
       "    (206, 227, 'TA'),\n",
       "    (168, 180, 'TN'),\n",
       "    (153, 161, 'LN'),\n",
       "    (144, 150, 'LP'),\n",
       "    (134, 143, 'LC'),\n",
       "    (94, 133, 'LA'),\n",
       "    (74, 92, 'LN')]}),\n",
       " ('This Licence Agreement is made on the hig day of spre mM ber - OS between Nucor, 4342 Gandy Street New York United States 13202(“Nucor”) and BMO Harris Bank of 1443 Lewis Street Illinois United States 60601For and on behalf of BMO Harris BankHEREAS Nucor has agreed to grant to the Licensee a Licence to use and occupy the space at Blk 18 Toh Yi Drive #01-113A Singapore 590018 (herein referred to as \"Premises\") subject to the terms and conditions of this Agreement.',\n",
       "  {'entities': [(201, 206, 'TP'),\n",
       "    (187, 200, 'TCO'),\n",
       "    (178, 186, 'TCI'),\n",
       "    (160, 177, 'TA'),\n",
       "    (141, 156, 'TN'),\n",
       "    (122, 127, 'LP'),\n",
       "    (108, 121, 'LCO'),\n",
       "    (99, 107, 'LCI'),\n",
       "    (81, 98, 'LA'),\n",
       "    (74, 79, 'LN')]}),\n",
       " ('This Licence Agreement is made on the hig day of spre mM ber - OS between AIBI International, 10 Sinaran Drive, 02-02 Square 2 Singapore 847278 (“AIBI”) and Indian Bank (UEN No : 847678273R) of 3 Raffles Place Singapore 823412 (“Licensee”).',\n",
       "  {'entities': [(220, 226, 'TP'),\n",
       "    (210, 219, 'TC'),\n",
       "    (194, 209, 'TA'),\n",
       "    (157, 169, 'TN'),\n",
       "    (146, 150, 'LN'),\n",
       "    (137, 143, 'LP'),\n",
       "    (127, 137, 'LC'),\n",
       "    (94, 126, 'LA'),\n",
       "    (74, 92, 'LN')]}),\n",
       " ('HEREAS Ayam has agreed to grant to the Licensee a Licence to use and occupy the space at Blk 18 Toh Yi Drive #01-113A Singapore 590018 (herein referred to as \"Premises\") subject to the terms and conditions of this Agreement.',\n",
       "  {'entities': [(7, 11, 'LN')]}),\n",
       " ('This Licence Agreement is made on the hig day of spre mM ber - OS between Trafigura Group, 52 Greenleaf Drive Singapore 893283 (“Trafigura”) and Hongkong and Shanghai Banking Corporation (UEN No : 847678273R) of 21 Collyer Quay Singapore 982783 (“Licensee”).',\n",
       "  {'entities': [(238, 244, 'TP'),\n",
       "    (228, 238, 'TC'),\n",
       "    (212, 227, 'TA'),\n",
       "    (145, 186, 'TN'),\n",
       "    (129, 138, 'LN'),\n",
       "    (120, 126, 'LP'),\n",
       "    (110, 119, 'LC'),\n",
       "    (91, 109, 'LA'),\n",
       "    (74, 89, 'LN')]}),\n",
       " ('This Licence Agreement is made on the hig day of spre mM ber - OS between Exelon, 2706 Rollins Road Nebraska United States 68801(“Exelon”) and U.S. Bancorp of 3699 Bryan Street North Carolina United States 27406For and on behalf of U.S. BancorpHEREAS Exelon has agreed to grant to the Licensee a Licence to use and occupy the space at Blk 18 Toh Yi Drive #01-113A Singapore 590018 (herein referred to as \"Premises\") subject to the terms and conditions of this Agreement.',\n",
       "  {'entities': [(206, 211, 'TP'),\n",
       "    (192, 205, 'TCO'),\n",
       "    (177, 191, 'TCI'),\n",
       "    (159, 176, 'TA'),\n",
       "    (143, 155, 'TN'),\n",
       "    (123, 128, 'LP'),\n",
       "    (109, 122, 'LCO'),\n",
       "    (100, 108, 'LCI'),\n",
       "    (82, 99, 'LA'),\n",
       "    (74, 80, 'LN')]}),\n",
       " ('This Licence Agreement is made on the hig day of spre mM ber - OS between USAA, 90 Maple Street California United States 92801(“USAA”) and Morgan Stanley of 2713 Ritter Avenue Michigan United States 48075For and on behalf of Morgan StanleyHEREAS USAA has agreed to grant to the Licensee a Licence to use and occupy the space at Blk 18 Toh Yi Drive #01-113A Singapore 590018 (herein referred to as \"Premises\") subject to the terms and conditions of this Agreement.',\n",
       "  {'entities': [(199, 204, 'TP'),\n",
       "    (185, 198, 'TCO'),\n",
       "    (176, 184, 'TCI'),\n",
       "    (157, 175, 'TA'),\n",
       "    (139, 153, 'TN'),\n",
       "    (121, 126, 'LP'),\n",
       "    (107, 120, 'LCO'),\n",
       "    (96, 106, 'LCI'),\n",
       "    (80, 95, 'LA'),\n",
       "    (74, 78, 'LN')]}),\n",
       " ('This Licence Agreement is made on the hig day of spre mM ber - OS between Raytheon Company, 362 Libby Street California United States 90247(“Raytheon”) and PNC Financial Services of 3206 Hart Ridge Road Michigan United States 48601For and on behalf of PNC Financial ServicesHEREAS Raytheon has agreed to grant to the Licensee a Licence to use and occupy the space at Blk 18 Toh Yi Drive #01-113A Singapore 590018 (herein referred to as \"Premises\") subject to the terms and conditions of this Agreement.',\n",
       "  {'entities': [(226, 231, 'TP'),\n",
       "    (212, 225, 'TCO'),\n",
       "    (203, 211, 'TCI'),\n",
       "    (182, 202, 'TA'),\n",
       "    (156, 178, 'TN'),\n",
       "    (134, 139, 'LP'),\n",
       "    (120, 133, 'LCO'),\n",
       "    (109, 119, 'LCI'),\n",
       "    (92, 108, 'LA'),\n",
       "    (74, 90, 'LN')]}),\n",
       " ('For and on behalf of Chung Khiaw Bank', {'entities': [(21, 37, 'TN')]}),\n",
       " ('HEREAS Boustead has agreed to grant to the Licensee a Licence to use and occupy the space at Blk 18 Toh Yi Drive #01-113A Singapore 590018 (herein referred to as \"Premises\") subject to the terms and conditions of this Agreement.',\n",
       "  {'entities': [(7, 16, 'LN')]}),\n",
       " ('This Licence Agreement is made on the hig day of spre mM ber - OS between Aspial Corporation, 101 kitchener road 02-17 jalan besar plaza Singapore 310480 (“Aspial”) and OCBC Bank (UEN No : 8766543541V) of 65 Chulia Street Singapore 987123',\n",
       "  {'entities': [(232, 238, 'TP'),\n",
       "    (222, 231, 'TC'),\n",
       "    (205, 221, 'TA'),\n",
       "    (169, 178, 'TN'),\n",
       "    (147, 154, 'LP'),\n",
       "    (137, 146, 'LC'),\n",
       "    (94, 136, 'LA'),\n",
       "    (74, 92, 'LN')]}),\n",
       " ('This Licence Agreement is made on the hig day of spre mM ber - OS between Duke Energy, 1211 Woodbridge Lane Michigan United States 48126(“Duke”) and State Street Corporation of 453 Adamsville Road North Dakota United States 58535For and on behalf of State Street CorporationHEREAS Duke has agreed to grant to the Licensee a Licence to use and occupy the space at Blk 18 Toh Yi Drive #01-113A Singapore 590018 (herein referred to as \"Premises\") subject to the terms and conditions of this Agreement.',\n",
       "  {'entities': [(224, 229, 'TP'),\n",
       "    (210, 223, 'TCO'),\n",
       "    (197, 209, 'TCI'),\n",
       "    (177, 196, 'TA'),\n",
       "    (149, 173, 'TN'),\n",
       "    (131, 136, 'LP'),\n",
       "    (117, 130, 'LCO'),\n",
       "    (108, 116, 'LCI'),\n",
       "    (87, 107, 'LA'),\n",
       "    (74, 85, 'LN')]}),\n",
       " ('This Licence Agreement is made on the hig day of spre mM ber - OS between Wilmar International, 460 Alexandra Road 22-06 PSA Building Singapore 456384 (“Wilmar”) and Chung Khiaw Bank (UEN No : 835782547F) of 180 Cecil Street Singapore 018982 (“Licensee”).',\n",
       "  {'entities': [(235, 241, 'TP'),\n",
       "    (225, 234, 'TC'),\n",
       "    (208, 224, 'TA'),\n",
       "    (166, 182, 'TN'),\n",
       "    (153, 159, 'LN'),\n",
       "    (144, 150, 'LP'),\n",
       "    (134, 143, 'LC'),\n",
       "    (96, 133, 'LA'),\n",
       "    (74, 94, 'LN')]}),\n",
       " ('This Licence Agreement is made on the hig day of spre mM ber - OS between Aetos Security Management, 10 Shenton Way MAS Building Singapore 079117 (“Aetos\") and Bank of Singapore (UEN No : 1233453451A) of 63 Market Street Singapore 876345',\n",
       "  {'entities': [(231, 237, 'TP'),\n",
       "    (221, 230, 'TC'),\n",
       "    (204, 220, 'TA'),\n",
       "    (160, 177, 'TN'),\n",
       "    (139, 145, 'LP'),\n",
       "    (129, 138, 'LC'),\n",
       "    (101, 128, 'LA'),\n",
       "    (74, 99, 'LN')]}),\n",
       " ('HEREAS Aspial has agreed to grant to the Licensee a Licence to use and occupy the space at Blk 18 Toh Yi Drive #01-113A Singapore 590018 (herein referred to as \"Premises\") subject to the terms and conditions of this Agreement.',\n",
       "  {'entities': [(7, 13, 'LN')]}),\n",
       " ('This Licence Agreement is made on the hig day of spre mM ber - OS between Pfizer, 3146 Brown Bear Drive California United States 92501(“Pfizer”) and Bank of America of 4281 Roosevelt Street California United States 94941For and on behalf of Bank of AmericaHEREAS Pfizer has agreed to grant to the Licensee a Licence to use and occupy the space at Blk 18 Toh Yi Drive #01-113A Singapore 590018 (herein referred to as \"Premises\") subject to the terms and conditions of this Agreement.',\n",
       "  {'entities': [(215, 220, 'TP'),\n",
       "    (201, 214, 'TCO'),\n",
       "    (190, 200, 'TCI'),\n",
       "    (168, 189, 'TA'),\n",
       "    (149, 164, 'TN'),\n",
       "    (129, 134, 'LP'),\n",
       "    (115, 128, 'LCO'),\n",
       "    (104, 114, 'LCI'),\n",
       "    (82, 103, 'LA'),\n",
       "    (74, 80, 'LN')]}),\n",
       " ('This Licence Agreement is made on the hig day of spre mM ber - OS between John Deere, 1987 Warner Street North Carolina United States 27706(“John Deere”) and Citigroup of 1440 Hershell Hollow Road New Jersey United States 08313For and on behalf of CitigroupHEREAS John Deere has agreed to grant to the Licensee a Licence to use and occupy the space at Blk 18 Toh Yi Drive #01-113A Singapore 590018 (herein referred to as \"Premises\") subject to the terms and conditions of this Agreement.',\n",
       "  {'entities': [(222, 227, 'TP'),\n",
       "    (208, 221, 'TCO'),\n",
       "    (197, 207, 'TCI'),\n",
       "    (171, 196, 'TA'),\n",
       "    (158, 167, 'TN'),\n",
       "    (134, 139, 'LP'),\n",
       "    (120, 133, 'LCO'),\n",
       "    (105, 119, 'LCI'),\n",
       "    (86, 104, 'LA'),\n",
       "    (74, 84, 'LN')]}),\n",
       " ('For and on behalf of United Overseas Bank', {'entities': [(21, 41, 'TN')]}),\n",
       " ('For and on behalf of Indian Bank', {'entities': [(21, 32, 'TN')]}),\n",
       " ('For and on behalf of Bank of Singapore', {'entities': [(21, 38, 'TN')]}),\n",
       " ('This Licence Agreement is made on the hig day of spre mM ber - OS between Amgen, 1122 Brown Bear Drive California United States 92390(“Amgen”) and The Bank of New York Mellon of 1577 Rainy Day Drive Massachusetts United States 02141For and on behalf of The Bank of New York MellonHEREAS Amgen has agreed to grant to the Licensee a Licence to use and occupy the space at Blk 18 Toh Yi Drive #01-113A Singapore 590018 (herein referred to as \"Premises\") subject to the terms and conditions of this Agreement.',\n",
       "  {'entities': [(227, 232, 'TP'),\n",
       "    (213, 226, 'TCO'),\n",
       "    (199, 212, 'TCI'),\n",
       "    (178, 198, 'TA'),\n",
       "    (147, 174, 'TN'),\n",
       "    (128, 133, 'LP'),\n",
       "    (114, 127, 'LCO'),\n",
       "    (103, 113, 'LCI'),\n",
       "    (81, 102, 'LA'),\n",
       "    (74, 79, 'LN')]}),\n",
       " ('This Licence Agreement is made on the hig day of spre mM ber - OS between Aflac, 773 Calvin Street Washington United States 98237(“Aflac”) and State Farm of 38 Taylor Street New York United States 10541For and on behalf of State FarmHEREAS Aflac has agreed to grant to the Licensee a Licence to use and occupy the space at Blk 18 Toh Yi Drive #01-113A Singapore 590018 (herein referred to as \"Premises\") subject to the terms and conditions of this Agreement.',\n",
       "  {'entities': [(197, 202, 'TP'),\n",
       "    (183, 196, 'TCO'),\n",
       "    (174, 182, 'TCI'),\n",
       "    (157, 173, 'TA'),\n",
       "    (143, 153, 'TN'),\n",
       "    (124, 129, 'LP'),\n",
       "    (110, 123, 'LCO'),\n",
       "    (99, 109, 'LCI'),\n",
       "    (81, 98, 'LA'),\n",
       "    (74, 79, 'LN')]}),\n",
       " ('This Licence Agreement is made on the hig day of spre mM ber - OS between Tech Data, 3636 Joseph Street Wisconsin United States 53202(“Tech Data”) and Wells Fargo of 2931 Hillcrest Avenue Massachusetts United States 02199For and on behalf of Wells FargoHEREAS Tech Data has agreed to grant to the Licensee a Licence to use and occupy the space at Blk 18 Toh Yi Drive #01-113A Singapore 590018 (herein referred to as \"Premises\") subject to the terms and conditions of this Agreement.',\n",
       "  {'entities': [(216, 221, 'TP'),\n",
       "    (202, 215, 'TCO'),\n",
       "    (188, 201, 'TCI'),\n",
       "    (166, 187, 'TA'),\n",
       "    (151, 162, 'TN'),\n",
       "    (128, 133, 'LP'),\n",
       "    (114, 127, 'LCO'),\n",
       "    (104, 113, 'LCI'),\n",
       "    (85, 103, 'LA'),\n",
       "    (74, 83, 'LN')]}),\n",
       " ('HEREAS Aetos has agreed to grant to the Licensee a Licence to use and occupy the space at Blk 18 Toh Yi Drive #01-113A Singapore 590018 (herein referred to as \"Premises\") subject to the terms and conditions of this Agreement.',\n",
       "  {'entities': [(7, 12, 'LN')]}),\n",
       " ('HEREAS Trafigura has agreed to grant to the Licensee a Licence to use and occupy the space at Blk 18 Toh Yi Drive #01-113A Singapore 590018 (herein referred to as \"Premises\") subject to the terms and conditions of this Agreement.',\n",
       "  {'entities': [(7, 16, 'LN')]}),\n",
       " ('For and on behalf of Hongkong and Shanghai Banking Corporation',\n",
       "  {'entities': [(21, 62, 'TN')]}),\n",
       " ('For and on behalf of DBS Bank Ltd', {'entities': [(21, 33, 'TN')]}),\n",
       " ('HEREAS HDB has agreed to grant to the Licensee a Licence to use and occupy the space at Blk 18 Toh Yi Drive #01-113A Singapore 590018 (herein referred to as \"Premises\") subject to the terms and conditions of this Agreement.',\n",
       "  {'entities': [(7, 10, 'LN')]}),\n",
       " ('This Licence Agreement is made on the hig day of spre mM ber - OS between Paccar, 172 Kenwood Place Florida United States 33176(“Paccar”) and Capital One of 3172 Lilac Lane Iowa United States 50854For and on behalf of Capital OneHEREAS Paccar has agreed to grant to the Licensee a Licence to use and occupy the space at Blk 18 Toh Yi Drive #01-113A Singapore 590018 (herein referred to as \"Premises\") subject to the terms and conditions of this Agreement.',\n",
       "  {'entities': [(192, 197, 'TP'),\n",
       "    (178, 191, 'TCO'),\n",
       "    (173, 177, 'TCI'),\n",
       "    (157, 172, 'TA'),\n",
       "    (142, 153, 'TN'),\n",
       "    (122, 127, 'LP'),\n",
       "    (108, 121, 'LCO'),\n",
       "    (100, 107, 'LCI'),\n",
       "    (82, 99, 'LA'),\n",
       "    (74, 80, 'LN')]}),\n",
       " ('This Licence Agreement is made on the hig day of spre mM ber - OS between Baker Hughes, 4943 Liberty Avenue California United States 92704(“Baker”) and TIAA of 200 Stoney Lonesome Road New York United States 16938For and on behalf of TIAAHEREAS Baker has agreed to grant to the Licensee a Licence to use and occupy the space at Blk 18 Toh Yi Drive #01-113A Singapore 590018 (herein referred to as \"Premises\") subject to the terms and conditions of this Agreement.',\n",
       "  {'entities': [(208, 213, 'TP'),\n",
       "    (194, 207, 'TCO'),\n",
       "    (185, 193, 'TCI'),\n",
       "    (160, 184, 'TA'),\n",
       "    (152, 156, 'TN'),\n",
       "    (133, 138, 'LP'),\n",
       "    (119, 132, 'LCO'),\n",
       "    (108, 118, 'LCI'),\n",
       "    (88, 107, 'LA'),\n",
       "    (74, 86, 'LN')]}),\n",
       " ('This Licence Agreement is made on the hig day of spre mM ber - OS between Publix, 945 Harvest Lane California United States 90017(“Publix”) and Goldman Sachs of 4431 Walnut Hill Drive Ohio United States 45204For and on behalf of Goldman SachsHEREAS Publix has agreed to grant to the Licensee a Licence to use and occupy the space at Blk 18 Toh Yi Drive #01-113A Singapore 590018 (herein referred to as \"Premises\") subject to the terms and conditions of this Agreement.',\n",
       "  {'entities': [(203, 208, 'TP'),\n",
       "    (189, 202, 'TCO'),\n",
       "    (184, 188, 'TCI'),\n",
       "    (166, 183, 'TA'),\n",
       "    (144, 157, 'TN'),\n",
       "    (124, 129, 'LP'),\n",
       "    (110, 123, 'LCO'),\n",
       "    (99, 109, 'LCI'),\n",
       "    (82, 98, 'LA'),\n",
       "    (74, 80, 'LN')]}),\n",
       " ('HEREAS Wilmar has agreed to grant to the Licensee a Licence to use and occupy the space at Blk 18 Toh Yi Drive #01-113A Singapore 590018 (herein referred to as \"Premises\") subject to the terms and conditions of this Agreement.',\n",
       "  {'entities': [(7, 13, 'LN')]}),\n",
       " ('For and on behalf of OCBC Bank', {'entities': [(21, 30, 'TN')]}),\n",
       " ('This Licence Agreement is made on the hig day of spre mM ber - OS between Glencore, 57 Golf Road Swintonmill United Kingdom TD12 8QY(“Glencore”) and HSBC of 24 Old Edinburgh Road Beech United Kingdom GU34 7UHFor and on behalf of HSBCHEREAS Glencore has agreed to grant to the Licensee a Licence to use and occupy the space at Blk 18 Toh Yi Drive #01-113A Singapore 590018 (herein referred to as \"Premises\") subject to the terms and conditions of this Agreement.',\n",
       "  {'entities': [(200, 208, 'TP'),\n",
       "    (185, 199, 'TCO'),\n",
       "    (179, 184, 'TCI'),\n",
       "    (157, 178, 'TA'),\n",
       "    (149, 153, 'TN'),\n",
       "    (124, 132, 'LP'),\n",
       "    (109, 123, 'LCO'),\n",
       "    (97, 108, 'LCI'),\n",
       "    (84, 96, 'LA'),\n",
       "    (74, 82, 'LN')]}),\n",
       " ('This Licence Agreement is made on the hig day of spre mM ber - OS between Abbott Laboratories, 2342 Jones Avenue Oklahoma United States 74018(“Abbott”) and Truist Financial of 4425 Barrington Court Arkansas United States 72440For and on behalf of Truist FinancialHEREAS Abbott has agreed to grant to the Licensee a Licence to use and occupy the space at Blk 18 Toh Yi Drive #01-113A Singapore 590018 (herein referred to as \"Premises\") subject to the terms and conditions of this Agreement.',\n",
       "  {'entities': [(221, 226, 'TP'),\n",
       "    (207, 220, 'TCO'),\n",
       "    (198, 206, 'TCI'),\n",
       "    (176, 197, 'TA'),\n",
       "    (156, 172, 'TN'),\n",
       "    (136, 141, 'LP'),\n",
       "    (122, 135, 'LCO'),\n",
       "    (113, 121, 'LCI'),\n",
       "    (95, 112, 'LA'),\n",
       "    (74, 93, 'LN')]}),\n",
       " ('This Licence Agreement is made on the hig day of spre mM ber - OS between Sysco, 1813 Wakefield Street Pennsylvania United States 19107(“Sysco”) and JPMorgan Chase of 3732 Kennedy Court Maine United States 04259For and on behalf of JPMorgan ChaseHEREAS Sysco has agreed to grant to the Licensee a Licence to use and occupy the space at Blk 18 Toh Yi Drive #01-113A Singapore 590018 (herein referred to as \"Premises\") subject to the terms and conditions of this Agreement.',\n",
       "  {'entities': [(206, 211, 'TP'),\n",
       "    (192, 205, 'TCO'),\n",
       "    (186, 191, 'TCI'),\n",
       "    (167, 185, 'TA'),\n",
       "    (149, 163, 'TN'),\n",
       "    (130, 135, 'LP'),\n",
       "    (116, 129, 'LCO'),\n",
       "    (103, 115, 'LCI'),\n",
       "    (81, 102, 'LA'),\n",
       "    (74, 79, 'LN')]}),\n",
       " ('This Licence Agreement is made on the hig day of spre mM ber - OS between Centrica, 13 Fox Lane Bodham Street United Kingdom NR25 0BL(“Centrica”) and Barclays of 86 Simone Weil Avenue Well United Kingdom RG29 6UJFor and on behalf of BarclaysHEREAS Centrica has agreed to grant to the Licensee a Licence to use and occupy the space at Blk 18 Toh Yi Drive #01-113A Singapore 590018 (herein referred to as \"Premises\") subject to the terms and conditions of this Agreement.',\n",
       "  {'entities': [(204, 212, 'TP'),\n",
       "    (189, 203, 'TCO'),\n",
       "    (184, 188, 'TCI'),\n",
       "    (162, 183, 'TA'),\n",
       "    (150, 158, 'TN'),\n",
       "    (125, 133, 'LP'),\n",
       "    (110, 124, 'LCO'),\n",
       "    (96, 109, 'LCI'),\n",
       "    (84, 95, 'LA'),\n",
       "    (74, 82, 'LN')]}),\n",
       " ('This Licence Agreement is made on the hig day of spre mM ber - OS between the Housing and Development Board of HDB Hub, 480 Lorong 6 Toa Payoh Singapore 310480 (“HDB”) and DBS Bank Ltd (UEN No : 196800306E) of 12 Marina Boulevard Singapore 018982',\n",
       "  {'entities': [(240, 246, 'TP'),\n",
       "    (230, 239, 'TC'),\n",
       "    (210, 229, 'TA'),\n",
       "    (172, 184, 'TN'),\n",
       "    (153, 159, 'LP'),\n",
       "    (143, 152, 'LC'),\n",
       "    (120, 142, 'LA'),\n",
       "    (74, 118, 'LN')]}),\n",
       " ('STAMP FEE PAID\\n', {'entities': []}),\n",
       " ('On_S utfote\\n', {'entities': []}),\n",
       " ('H@B CASH OFFICE\\n', {'entities': []}),\n",
       " ('TEMPORARY OCCUPATION LICENCE FOR\\n', {'entities': []}),\n",
       " ('AUTOMATED TELLER MACHINES\\n', {'entities': []}),\n",
       " ('CASH OFFICE\\n', {'entities': []}),\n",
       " ('TEMPORARY OCCUPATION LICENCE FOR TA\\n', {'entities': []}),\n",
       " ('MACHINES\\n', {'entities': []}),\n",
       " ('11\\n', {'entities': []}),\n",
       " ('12\\n', {'entities': []}),\n",
       " ('DBS Asia Central @\\n', {'entities': []}),\n",
       " ('Marina Bay Financial Centre Tower 3\\n', {'entities': []}),\n",
       " ('Singapore 018982\\n', {'entities': []}),\n",
       " ('Tel : 65.6878 8888\\n', {'entities': []}),\n",
       " ('SWIFT Dest : DBSSSGSG\\n', {'entities': []}),\n",
       " (': SDBS\\n', {'entities': []}),\n",
       " ('19 NOVEMBER 2018\\n', {'entities': []}),\n",
       " ('HOUSING & DEVELOPMENT BOARD\\n', {'entities': []}),\n",
       " ('HD8 HUB\\n', {'entities': []}),\n",
       " ('(nh) The Licensee may apply to HDB to include new locations.\\n',\n",
       "  {'entities': []}),\n",
       " ('The Licensee shall hold HDB harmless and keep HDB indemnified, fully and completely \\n',\n",
       "  {'entities': []}),\n",
       " ('13\\n', {'entities': []}),\n",
       " ('IN WITNESS WHEREOF the parties have signed this Agreement.\\n',\n",
       "  {'entities': []}),\n",
       " ('THE SCHEDULE\\n', {'entities': []}),\n",
       " ('Floor Area of Premises â€” 15.00 sqm\\n', {'entities': []}),\n",
       " ('Housing & Development Board ) f li) HHgusing & Development Boa\\n',\n",
       "  {'entities': []}),\n",
       " ('Chan Mei Teng Shiree\\n', {'entities': []}),\n",
       " ('NRIC No: Tham Loi Foong, Jennifer\\n', {'entities': []}),\n",
       " ('ignature No. 9682\\n', {'entities': []}),\n",
       " ('12430062711\\n', {'entities': []}),\n",
       " ('HOUSING &\\n', {'entities': []}),\n",
       " ('DEVELOPMENT\\n', {'entities': []}),\n",
       " ('BOARD\\n', {'entities': []}),\n",
       " ('DATE: 27/11/2018 RECEIPT NO: 291180401564\\n', {'entities': []}),\n",
       " ('GST REG NO: MB-8100007-1\\n', {'entities': []}),\n",
       " ('NAME : DBS BANK LTD.\\n', {'entities': []}),\n",
       " ('ADDRESS: BLK 1 EVERTON PK #01-27A SINGAPORE 081001\\n', {'entities': []}),\n",
       " ('AWARD â€”_ Email address: hdb@mailbox.hdb.gov.sg * HDB InfoWEB: www.hdb.gov.sg\\n',\n",
       "  {'entities': []}),\n",
       " ('2008 WINNER\\n', {'entities': []}),\n",
       " ('DBS Bank Ltd\\n', {'entities': []}),\n",
       " ('12 Marina Boulevard, Level 12\\n', {'entities': []}),\n",
       " ('It is hereby agreed as follows:\\n', {'entities': []}),\n",
       " ('1 In consideration of the payment by the Licensee a sum of $600.00 per month (exclusive of Goods and Services Tax) or such other sum as the HDB may notify in writing, HDB hereby authorises the Licensee to use and occupy the Premises for the sole purpose of setting up and maintaining an Automated Teller Machine (ATM) for a period of 3 years commencing from 01/12/2018, subject to renewal, at the discretion of HDB, and upon such terms and conditions as may be imposed by HDB. The licensee is required to give a written request to HDB 2 month prior to the expiry of this TOL to inform of their intention to renew this TOL.\\n',\n",
       "  {'entities': []}),\n",
       " ('Contracts (Rights TN\\n', {'entities': []}),\n",
       " ('Third Parties) TA\\n', {'entities': []}),\n",
       " ('Commercial Properti TA\\n', {'entities': []}),\n",
       " ('the ) y Se ore croup Â°\\n', {'entities': []}),\n",
       " ('Housing & Development Board ) f li) HHgusing & Development Boa\\n',\n",
       "  {'entities': []}),\n",
       " ('OO\\n', {'entities': []}),\n",
       " ('Chan Mei Teng TA\\n', {'entities': []}),\n",
       " ('SINGAPORE TC\\n', {'entities': []}),\n",
       " ('action for\\n', {'entities': []}),\n",
       " ('infringement of any statutory provision or for breach of contract including recovery of any arrears due and owing to HDB; or to its right\\n',\n",
       "  {'entities': []}),\n",
       " ('to collect additional sums from an upward revision in rent,loan or upgrading costs or service and conservancy charges.\\n',\n",
       "  {'entities': []}),\n",
       " ('Page 1 of 1\\n', {'entities': []}),\n",
       " ('SINGAPORE TN\\n', {'entities': []}),\n",
       " ('12 Marina Boulevard TA\\n', {'entities': []}),\n",
       " ('the Housing & Development TA\\n', {'entities': []}),\n",
       " ('SINGAPORE DOLLARS SIX TA\\n', {'entities': []}),\n",
       " ('00/100 (SÂ¢D642.00 TA', {'entities': []})]"
      ]
     },
     "execution_count": 53,
     "metadata": {},
     "output_type": "execute_result"
    }
   ],
   "source": [
    "TRAIN_DATA"
   ]
  },
  {
   "cell_type": "code",
   "execution_count": 55,
   "metadata": {},
   "outputs": [],
   "source": [
    "# training\n",
    "\n",
    "model = None\n",
    "output_dir=Path(\"C:\\\\Users\\\\Sivaraman\\\\Desktop\\\\Py_projects\\\\spacy_models\\\\model_2\")\n",
    "n_iter= 300"
   ]
  },
  {
   "cell_type": "code",
   "execution_count": 56,
   "metadata": {},
   "outputs": [
    {
     "name": "stdout",
     "output_type": "stream",
     "text": [
      "Created blank 'en' model\n"
     ]
    }
   ],
   "source": [
    "if model is not None:\n",
    "    nlp = spacy.load(model)  \n",
    "    print(\"Loaded model '%s'\" % model)\n",
    "else:\n",
    "    nlp = spacy.blank('en')   \n",
    "    print(\"Created blank 'en' model\")\n",
    "\n",
    "#set up the pipeline\n",
    "\n",
    "if 'ner' not in nlp.pipe_names:\n",
    "    ner = nlp.create_pipe('ner')\n",
    "    nlp.add_pipe(ner, last=True)\n",
    "else:\n",
    "    ner = nlp.get_pipe('ner')"
   ]
  },
  {
   "cell_type": "code",
   "execution_count": 57,
   "metadata": {},
   "outputs": [
    {
     "name": "stderr",
     "output_type": "stream",
     "text": [
      "100%|████████████████████████████████████████████████████████████████████████████████| 102/102 [00:44<00:00,  2.31it/s]\n",
      "  0%|                                                                                          | 0/102 [00:00<?, ?it/s]"
     ]
    },
    {
     "name": "stdout",
     "output_type": "stream",
     "text": [
      "{'ner': 887.7179747928919} 0\n"
     ]
    },
    {
     "name": "stderr",
     "output_type": "stream",
     "text": [
      "100%|████████████████████████████████████████████████████████████████████████████████| 102/102 [00:32<00:00,  3.13it/s]\n",
      "  0%|                                                                                          | 0/102 [00:00<?, ?it/s]"
     ]
    },
    {
     "name": "stdout",
     "output_type": "stream",
     "text": [
      "{'ner': 599.6989555204607} 1\n"
     ]
    },
    {
     "name": "stderr",
     "output_type": "stream",
     "text": [
      "100%|████████████████████████████████████████████████████████████████████████████████| 102/102 [00:32<00:00,  3.12it/s]\n",
      "  0%|                                                                                          | 0/102 [00:00<?, ?it/s]"
     ]
    },
    {
     "name": "stdout",
     "output_type": "stream",
     "text": [
      "{'ner': 534.0386169636581} 2\n"
     ]
    },
    {
     "name": "stderr",
     "output_type": "stream",
     "text": [
      "100%|████████████████████████████████████████████████████████████████████████████████| 102/102 [00:59<00:00,  1.71it/s]\n",
      "  0%|                                                                                          | 0/102 [00:00<?, ?it/s]"
     ]
    },
    {
     "name": "stdout",
     "output_type": "stream",
     "text": [
      "{'ner': 592.476350673477} 3\n"
     ]
    },
    {
     "name": "stderr",
     "output_type": "stream",
     "text": [
      "100%|████████████████████████████████████████████████████████████████████████████████| 102/102 [00:33<00:00,  3.02it/s]\n",
      "  0%|                                                                                          | 0/102 [00:00<?, ?it/s]"
     ]
    },
    {
     "name": "stdout",
     "output_type": "stream",
     "text": [
      "{'ner': 684.4672282833733} 4\n"
     ]
    },
    {
     "name": "stderr",
     "output_type": "stream",
     "text": [
      "100%|████████████████████████████████████████████████████████████████████████████████| 102/102 [00:59<00:00,  1.72it/s]\n"
     ]
    },
    {
     "name": "stdout",
     "output_type": "stream",
     "text": [
      "{'ner': 580.4826080013136} 5\n"
     ]
    },
    {
     "name": "stderr",
     "output_type": "stream",
     "text": [
      "100%|████████████████████████████████████████████████████████████████████████████████| 102/102 [00:47<00:00,  2.15it/s]\n",
      "  0%|                                                                                          | 0/102 [00:00<?, ?it/s]"
     ]
    },
    {
     "name": "stdout",
     "output_type": "stream",
     "text": [
      "{'ner': 474.7128813691481} 6\n"
     ]
    },
    {
     "name": "stderr",
     "output_type": "stream",
     "text": [
      "100%|████████████████████████████████████████████████████████████████████████████████| 102/102 [00:42<00:00,  2.39it/s]\n",
      "  0%|                                                                                          | 0/102 [00:00<?, ?it/s]"
     ]
    },
    {
     "name": "stdout",
     "output_type": "stream",
     "text": [
      "{'ner': 484.5206375697368} 7\n"
     ]
    },
    {
     "name": "stderr",
     "output_type": "stream",
     "text": [
      "100%|████████████████████████████████████████████████████████████████████████████████| 102/102 [00:46<00:00,  2.17it/s]\n",
      "  0%|                                                                                          | 0/102 [00:00<?, ?it/s]"
     ]
    },
    {
     "name": "stdout",
     "output_type": "stream",
     "text": [
      "{'ner': 467.4316709368584} 8\n"
     ]
    },
    {
     "name": "stderr",
     "output_type": "stream",
     "text": [
      "100%|████████████████████████████████████████████████████████████████████████████████| 102/102 [00:42<00:00,  2.40it/s]\n",
      "  0%|                                                                                          | 0/102 [00:00<?, ?it/s]"
     ]
    },
    {
     "name": "stdout",
     "output_type": "stream",
     "text": [
      "{'ner': 406.876765953416} 9\n"
     ]
    },
    {
     "name": "stderr",
     "output_type": "stream",
     "text": [
      "100%|████████████████████████████████████████████████████████████████████████████████| 102/102 [00:38<00:00,  2.68it/s]\n",
      "  0%|                                                                                          | 0/102 [00:00<?, ?it/s]"
     ]
    },
    {
     "name": "stdout",
     "output_type": "stream",
     "text": [
      "{'ner': 434.8952338002335} 10\n"
     ]
    },
    {
     "name": "stderr",
     "output_type": "stream",
     "text": [
      "100%|████████████████████████████████████████████████████████████████████████████████| 102/102 [00:38<00:00,  2.62it/s]\n",
      "  0%|                                                                                          | 0/102 [00:00<?, ?it/s]"
     ]
    },
    {
     "name": "stdout",
     "output_type": "stream",
     "text": [
      "{'ner': 353.6155433930246} 11\n"
     ]
    },
    {
     "name": "stderr",
     "output_type": "stream",
     "text": [
      "100%|████████████████████████████████████████████████████████████████████████████████| 102/102 [00:39<00:00,  2.60it/s]\n",
      "  0%|                                                                                          | 0/102 [00:00<?, ?it/s]"
     ]
    },
    {
     "name": "stdout",
     "output_type": "stream",
     "text": [
      "{'ner': 363.8221202578731} 12\n"
     ]
    },
    {
     "name": "stderr",
     "output_type": "stream",
     "text": [
      "100%|████████████████████████████████████████████████████████████████████████████████| 102/102 [00:38<00:00,  2.65it/s]\n",
      "  0%|                                                                                          | 0/102 [00:00<?, ?it/s]"
     ]
    },
    {
     "name": "stdout",
     "output_type": "stream",
     "text": [
      "{'ner': 330.43303844906006} 13\n"
     ]
    },
    {
     "name": "stderr",
     "output_type": "stream",
     "text": [
      "100%|████████████████████████████████████████████████████████████████████████████████| 102/102 [00:42<00:00,  2.42it/s]\n",
      "  0%|                                                                                          | 0/102 [00:00<?, ?it/s]"
     ]
    },
    {
     "name": "stdout",
     "output_type": "stream",
     "text": [
      "{'ner': 304.9438903685639} 14\n"
     ]
    },
    {
     "name": "stderr",
     "output_type": "stream",
     "text": [
      "100%|████████████████████████████████████████████████████████████████████████████████| 102/102 [00:55<00:00,  1.83it/s]\n",
      "  0%|                                                                                          | 0/102 [00:00<?, ?it/s]"
     ]
    },
    {
     "name": "stdout",
     "output_type": "stream",
     "text": [
      "{'ner': 321.33683261070524} 15\n"
     ]
    },
    {
     "name": "stderr",
     "output_type": "stream",
     "text": [
      "100%|████████████████████████████████████████████████████████████████████████████████| 102/102 [00:56<00:00,  1.81it/s]\n",
      "  0%|                                                                                          | 0/102 [00:00<?, ?it/s]"
     ]
    },
    {
     "name": "stdout",
     "output_type": "stream",
     "text": [
      "{'ner': 299.3307920856035} 16\n"
     ]
    },
    {
     "name": "stderr",
     "output_type": "stream",
     "text": [
      "100%|████████████████████████████████████████████████████████████████████████████████| 102/102 [00:52<00:00,  1.92it/s]\n",
      "  0%|                                                                                          | 0/102 [00:00<?, ?it/s]"
     ]
    },
    {
     "name": "stdout",
     "output_type": "stream",
     "text": [
      "{'ner': 266.15014154096957} 17\n"
     ]
    },
    {
     "name": "stderr",
     "output_type": "stream",
     "text": [
      "100%|████████████████████████████████████████████████████████████████████████████████| 102/102 [00:52<00:00,  1.93it/s]\n",
      "  0%|                                                                                          | 0/102 [00:00<?, ?it/s]"
     ]
    },
    {
     "name": "stdout",
     "output_type": "stream",
     "text": [
      "{'ner': 217.08856124395243} 18\n"
     ]
    },
    {
     "name": "stderr",
     "output_type": "stream",
     "text": [
      "100%|████████████████████████████████████████████████████████████████████████████████| 102/102 [01:16<00:00,  1.34it/s]\n",
      "  0%|                                                                                          | 0/102 [00:00<?, ?it/s]"
     ]
    },
    {
     "name": "stdout",
     "output_type": "stream",
     "text": [
      "{'ner': 268.39984279389955} 19\n"
     ]
    },
    {
     "name": "stderr",
     "output_type": "stream",
     "text": [
      "100%|████████████████████████████████████████████████████████████████████████████████| 102/102 [00:57<00:00,  1.78it/s]\n",
      "  0%|                                                                                          | 0/102 [00:00<?, ?it/s]"
     ]
    },
    {
     "name": "stdout",
     "output_type": "stream",
     "text": [
      "{'ner': 209.15282889344763} 20\n"
     ]
    },
    {
     "name": "stderr",
     "output_type": "stream",
     "text": [
      "100%|████████████████████████████████████████████████████████████████████████████████| 102/102 [00:55<00:00,  1.84it/s]\n",
      "  0%|                                                                                          | 0/102 [00:00<?, ?it/s]"
     ]
    },
    {
     "name": "stdout",
     "output_type": "stream",
     "text": [
      "{'ner': 217.60173145268618} 21\n"
     ]
    },
    {
     "name": "stderr",
     "output_type": "stream",
     "text": [
      "100%|████████████████████████████████████████████████████████████████████████████████| 102/102 [00:56<00:00,  1.80it/s]\n",
      "  0%|                                                                                          | 0/102 [00:00<?, ?it/s]"
     ]
    },
    {
     "name": "stdout",
     "output_type": "stream",
     "text": [
      "{'ner': 187.3001330978711} 22\n"
     ]
    },
    {
     "name": "stderr",
     "output_type": "stream",
     "text": [
      "100%|████████████████████████████████████████████████████████████████████████████████| 102/102 [01:02<00:00,  1.62it/s]\n",
      "  0%|                                                                                          | 0/102 [00:00<?, ?it/s]"
     ]
    },
    {
     "name": "stdout",
     "output_type": "stream",
     "text": [
      "{'ner': 200.4684767543946} 23\n"
     ]
    },
    {
     "name": "stderr",
     "output_type": "stream",
     "text": [
      "100%|████████████████████████████████████████████████████████████████████████████████| 102/102 [00:53<00:00,  1.90it/s]\n",
      "  0%|                                                                                          | 0/102 [00:00<?, ?it/s]"
     ]
    },
    {
     "name": "stdout",
     "output_type": "stream",
     "text": [
      "{'ner': 208.75573477218438} 24\n"
     ]
    },
    {
     "name": "stderr",
     "output_type": "stream",
     "text": [
      "100%|████████████████████████████████████████████████████████████████████████████████| 102/102 [00:51<00:00,  1.98it/s]\n",
      "  0%|                                                                                          | 0/102 [00:00<?, ?it/s]"
     ]
    },
    {
     "name": "stdout",
     "output_type": "stream",
     "text": [
      "{'ner': 153.03029065779134} 25\n"
     ]
    },
    {
     "name": "stderr",
     "output_type": "stream",
     "text": [
      "100%|████████████████████████████████████████████████████████████████████████████████| 102/102 [01:01<00:00,  1.66it/s]\n",
      "  0%|                                                                                          | 0/102 [00:00<?, ?it/s]"
     ]
    },
    {
     "name": "stdout",
     "output_type": "stream",
     "text": [
      "{'ner': 175.350648877131} 26\n"
     ]
    },
    {
     "name": "stderr",
     "output_type": "stream",
     "text": [
      "100%|████████████████████████████████████████████████████████████████████████████████| 102/102 [01:04<00:00,  1.59it/s]\n",
      "  0%|                                                                                          | 0/102 [00:00<?, ?it/s]"
     ]
    },
    {
     "name": "stdout",
     "output_type": "stream",
     "text": [
      "{'ner': 110.32881737801978} 27\n"
     ]
    },
    {
     "name": "stderr",
     "output_type": "stream",
     "text": [
      "100%|████████████████████████████████████████████████████████████████████████████████| 102/102 [01:16<00:00,  1.33it/s]\n",
      "  0%|                                                                                          | 0/102 [00:00<?, ?it/s]"
     ]
    },
    {
     "name": "stdout",
     "output_type": "stream",
     "text": [
      "{'ner': 133.3767805874303} 28\n"
     ]
    },
    {
     "name": "stderr",
     "output_type": "stream",
     "text": [
      "100%|████████████████████████████████████████████████████████████████████████████████| 102/102 [00:53<00:00,  1.90it/s]\n",
      "  0%|                                                                                          | 0/102 [00:00<?, ?it/s]"
     ]
    },
    {
     "name": "stdout",
     "output_type": "stream",
     "text": [
      "{'ner': 155.29458760209135} 29\n"
     ]
    },
    {
     "name": "stderr",
     "output_type": "stream",
     "text": [
      "100%|████████████████████████████████████████████████████████████████████████████████| 102/102 [00:55<00:00,  1.85it/s]\n",
      "  0%|                                                                                          | 0/102 [00:00<?, ?it/s]"
     ]
    },
    {
     "name": "stdout",
     "output_type": "stream",
     "text": [
      "{'ner': 139.6896960100955} 30\n"
     ]
    },
    {
     "name": "stderr",
     "output_type": "stream",
     "text": [
      "100%|████████████████████████████████████████████████████████████████████████████████| 102/102 [00:58<00:00,  1.75it/s]\n",
      "  0%|                                                                                          | 0/102 [00:00<?, ?it/s]"
     ]
    },
    {
     "name": "stdout",
     "output_type": "stream",
     "text": [
      "{'ner': 133.1661562422051} 31\n"
     ]
    },
    {
     "name": "stderr",
     "output_type": "stream",
     "text": [
      "100%|████████████████████████████████████████████████████████████████████████████████| 102/102 [00:58<00:00,  1.74it/s]\n",
      "  0%|                                                                                          | 0/102 [00:00<?, ?it/s]"
     ]
    },
    {
     "name": "stdout",
     "output_type": "stream",
     "text": [
      "{'ner': 132.70941987255426} 32\n"
     ]
    },
    {
     "name": "stderr",
     "output_type": "stream",
     "text": [
      "100%|████████████████████████████████████████████████████████████████████████████████| 102/102 [00:48<00:00,  2.09it/s]\n",
      "  0%|                                                                                          | 0/102 [00:00<?, ?it/s]"
     ]
    },
    {
     "name": "stdout",
     "output_type": "stream",
     "text": [
      "{'ner': 100.94671303790952} 33\n"
     ]
    },
    {
     "name": "stderr",
     "output_type": "stream",
     "text": [
      "100%|████████████████████████████████████████████████████████████████████████████████| 102/102 [00:53<00:00,  1.91it/s]\n",
      "  0%|                                                                                          | 0/102 [00:00<?, ?it/s]"
     ]
    },
    {
     "name": "stdout",
     "output_type": "stream",
     "text": [
      "{'ner': 99.49086561484557} 34\n"
     ]
    },
    {
     "name": "stderr",
     "output_type": "stream",
     "text": [
      "100%|████████████████████████████████████████████████████████████████████████████████| 102/102 [00:55<00:00,  1.83it/s]\n",
      "  0%|                                                                                          | 0/102 [00:00<?, ?it/s]"
     ]
    },
    {
     "name": "stdout",
     "output_type": "stream",
     "text": [
      "{'ner': 218.73269349898666} 35\n"
     ]
    },
    {
     "name": "stderr",
     "output_type": "stream",
     "text": [
      "100%|████████████████████████████████████████████████████████████████████████████████| 102/102 [00:57<00:00,  1.78it/s]\n",
      "  0%|                                                                                          | 0/102 [00:00<?, ?it/s]"
     ]
    },
    {
     "name": "stdout",
     "output_type": "stream",
     "text": [
      "{'ner': 121.9526446862118} 36\n"
     ]
    },
    {
     "name": "stderr",
     "output_type": "stream",
     "text": [
      "100%|████████████████████████████████████████████████████████████████████████████████| 102/102 [00:59<00:00,  1.71it/s]\n",
      "  0%|                                                                                          | 0/102 [00:00<?, ?it/s]"
     ]
    },
    {
     "name": "stdout",
     "output_type": "stream",
     "text": [
      "{'ner': 109.72160357646214} 37\n"
     ]
    },
    {
     "name": "stderr",
     "output_type": "stream",
     "text": [
      "100%|████████████████████████████████████████████████████████████████████████████████| 102/102 [00:58<00:00,  1.75it/s]\n",
      "  0%|                                                                                          | 0/102 [00:00<?, ?it/s]"
     ]
    },
    {
     "name": "stdout",
     "output_type": "stream",
     "text": [
      "{'ner': 107.83210804902362} 38\n"
     ]
    },
    {
     "name": "stderr",
     "output_type": "stream",
     "text": [
      "100%|████████████████████████████████████████████████████████████████████████████████| 102/102 [00:58<00:00,  1.75it/s]\n",
      "  0%|                                                                                          | 0/102 [00:00<?, ?it/s]"
     ]
    },
    {
     "name": "stdout",
     "output_type": "stream",
     "text": [
      "{'ner': 97.4158920972121} 39\n"
     ]
    },
    {
     "name": "stderr",
     "output_type": "stream",
     "text": [
      "100%|████████████████████████████████████████████████████████████████████████████████| 102/102 [01:03<00:00,  1.60it/s]\n",
      "  0%|                                                                                          | 0/102 [00:00<?, ?it/s]"
     ]
    },
    {
     "name": "stdout",
     "output_type": "stream",
     "text": [
      "{'ner': 79.35834717744558} 40\n"
     ]
    },
    {
     "name": "stderr",
     "output_type": "stream",
     "text": [
      "100%|████████████████████████████████████████████████████████████████████████████████| 102/102 [00:44<00:00,  2.29it/s]\n",
      "  0%|                                                                                          | 0/102 [00:00<?, ?it/s]"
     ]
    },
    {
     "name": "stdout",
     "output_type": "stream",
     "text": [
      "{'ner': 85.70111545854793} 41\n"
     ]
    },
    {
     "name": "stderr",
     "output_type": "stream",
     "text": [
      "100%|████████████████████████████████████████████████████████████████████████████████| 102/102 [00:53<00:00,  1.91it/s]\n",
      "  0%|                                                                                          | 0/102 [00:00<?, ?it/s]"
     ]
    },
    {
     "name": "stdout",
     "output_type": "stream",
     "text": [
      "{'ner': 96.68228414371339} 42\n"
     ]
    },
    {
     "name": "stderr",
     "output_type": "stream",
     "text": [
      "100%|████████████████████████████████████████████████████████████████████████████████| 102/102 [00:59<00:00,  1.72it/s]\n",
      "  0%|                                                                                          | 0/102 [00:00<?, ?it/s]"
     ]
    },
    {
     "name": "stdout",
     "output_type": "stream",
     "text": [
      "{'ner': 72.5719738529462} 43\n"
     ]
    },
    {
     "name": "stderr",
     "output_type": "stream",
     "text": [
      "100%|████████████████████████████████████████████████████████████████████████████████| 102/102 [01:05<00:00,  1.55it/s]\n",
      "  0%|                                                                                          | 0/102 [00:00<?, ?it/s]"
     ]
    },
    {
     "name": "stdout",
     "output_type": "stream",
     "text": [
      "{'ner': 62.664468615915006} 44\n"
     ]
    },
    {
     "name": "stderr",
     "output_type": "stream",
     "text": [
      "100%|████████████████████████████████████████████████████████████████████████████████| 102/102 [00:55<00:00,  1.85it/s]\n",
      "  0%|                                                                                          | 0/102 [00:00<?, ?it/s]"
     ]
    },
    {
     "name": "stdout",
     "output_type": "stream",
     "text": [
      "{'ner': 77.36742940846} 45\n"
     ]
    },
    {
     "name": "stderr",
     "output_type": "stream",
     "text": [
      "100%|████████████████████████████████████████████████████████████████████████████████| 102/102 [00:59<00:00,  1.71it/s]\n",
      "  0%|                                                                                          | 0/102 [00:00<?, ?it/s]"
     ]
    },
    {
     "name": "stdout",
     "output_type": "stream",
     "text": [
      "{'ner': 31.82952664559341} 46\n"
     ]
    },
    {
     "name": "stderr",
     "output_type": "stream",
     "text": [
      "100%|████████████████████████████████████████████████████████████████████████████████| 102/102 [00:57<00:00,  1.76it/s]\n",
      "  0%|                                                                                          | 0/102 [00:00<?, ?it/s]"
     ]
    },
    {
     "name": "stdout",
     "output_type": "stream",
     "text": [
      "{'ner': 47.493353280632036} 47\n"
     ]
    },
    {
     "name": "stderr",
     "output_type": "stream",
     "text": [
      "100%|████████████████████████████████████████████████████████████████████████████████| 102/102 [00:55<00:00,  1.82it/s]\n",
      "  0%|                                                                                          | 0/102 [00:00<?, ?it/s]"
     ]
    },
    {
     "name": "stdout",
     "output_type": "stream",
     "text": [
      "{'ner': 43.84645645708735} 48\n"
     ]
    },
    {
     "name": "stderr",
     "output_type": "stream",
     "text": [
      "100%|████████████████████████████████████████████████████████████████████████████████| 102/102 [00:58<00:00,  1.75it/s]\n",
      "  0%|                                                                                          | 0/102 [00:00<?, ?it/s]"
     ]
    },
    {
     "name": "stdout",
     "output_type": "stream",
     "text": [
      "{'ner': 107.20838081109238} 49\n"
     ]
    },
    {
     "name": "stderr",
     "output_type": "stream",
     "text": [
      "100%|████████████████████████████████████████████████████████████████████████████████| 102/102 [00:58<00:00,  1.74it/s]\n",
      "  0%|                                                                                          | 0/102 [00:00<?, ?it/s]"
     ]
    },
    {
     "name": "stdout",
     "output_type": "stream",
     "text": [
      "{'ner': 53.349044987896676} 50\n"
     ]
    },
    {
     "name": "stderr",
     "output_type": "stream",
     "text": [
      "100%|████████████████████████████████████████████████████████████████████████████████| 102/102 [01:02<00:00,  1.63it/s]\n",
      "  0%|                                                                                          | 0/102 [00:00<?, ?it/s]"
     ]
    },
    {
     "name": "stdout",
     "output_type": "stream",
     "text": [
      "{'ner': 72.5660614323758} 51\n"
     ]
    },
    {
     "name": "stderr",
     "output_type": "stream",
     "text": [
      "100%|████████████████████████████████████████████████████████████████████████████████| 102/102 [00:59<00:00,  1.70it/s]\n",
      "  0%|                                                                                          | 0/102 [00:00<?, ?it/s]"
     ]
    },
    {
     "name": "stdout",
     "output_type": "stream",
     "text": [
      "{'ner': 65.98290616495052} 52\n"
     ]
    },
    {
     "name": "stderr",
     "output_type": "stream",
     "text": [
      "100%|████████████████████████████████████████████████████████████████████████████████| 102/102 [00:52<00:00,  1.94it/s]\n",
      "  0%|                                                                                          | 0/102 [00:00<?, ?it/s]"
     ]
    },
    {
     "name": "stdout",
     "output_type": "stream",
     "text": [
      "{'ner': 96.81095466311973} 53\n"
     ]
    },
    {
     "name": "stderr",
     "output_type": "stream",
     "text": [
      "100%|████████████████████████████████████████████████████████████████████████████████| 102/102 [00:57<00:00,  1.76it/s]\n",
      "  0%|                                                                                          | 0/102 [00:00<?, ?it/s]"
     ]
    },
    {
     "name": "stdout",
     "output_type": "stream",
     "text": [
      "{'ner': 65.30596596662727} 54\n"
     ]
    },
    {
     "name": "stderr",
     "output_type": "stream",
     "text": [
      "100%|████████████████████████████████████████████████████████████████████████████████| 102/102 [00:51<00:00,  2.00it/s]\n",
      "  0%|                                                                                          | 0/102 [00:00<?, ?it/s]"
     ]
    },
    {
     "name": "stdout",
     "output_type": "stream",
     "text": [
      "{'ner': 43.28077129602468} 55\n"
     ]
    },
    {
     "name": "stderr",
     "output_type": "stream",
     "text": [
      "100%|████████████████████████████████████████████████████████████████████████████████| 102/102 [00:56<00:00,  1.80it/s]\n",
      "  0%|                                                                                          | 0/102 [00:00<?, ?it/s]"
     ]
    },
    {
     "name": "stdout",
     "output_type": "stream",
     "text": [
      "{'ner': 43.68916780460813} 56\n"
     ]
    },
    {
     "name": "stderr",
     "output_type": "stream",
     "text": [
      "100%|████████████████████████████████████████████████████████████████████████████████| 102/102 [00:56<00:00,  1.82it/s]\n",
      "  0%|                                                                                          | 0/102 [00:00<?, ?it/s]"
     ]
    },
    {
     "name": "stdout",
     "output_type": "stream",
     "text": [
      "{'ner': 41.24686815969281} 57\n"
     ]
    },
    {
     "name": "stderr",
     "output_type": "stream",
     "text": [
      "100%|████████████████████████████████████████████████████████████████████████████████| 102/102 [00:59<00:00,  1.72it/s]\n",
      "  0%|                                                                                          | 0/102 [00:00<?, ?it/s]"
     ]
    },
    {
     "name": "stdout",
     "output_type": "stream",
     "text": [
      "{'ner': 49.293030355518034} 58\n"
     ]
    },
    {
     "name": "stderr",
     "output_type": "stream",
     "text": [
      "100%|████████████████████████████████████████████████████████████████████████████████| 102/102 [00:57<00:00,  1.78it/s]\n",
      "  0%|                                                                                          | 0/102 [00:00<?, ?it/s]"
     ]
    },
    {
     "name": "stdout",
     "output_type": "stream",
     "text": [
      "{'ner': 62.8879300400927} 59\n"
     ]
    },
    {
     "name": "stderr",
     "output_type": "stream",
     "text": [
      "100%|████████████████████████████████████████████████████████████████████████████████| 102/102 [01:10<00:00,  1.44it/s]\n",
      "  0%|                                                                                          | 0/102 [00:00<?, ?it/s]"
     ]
    },
    {
     "name": "stdout",
     "output_type": "stream",
     "text": [
      "{'ner': 50.99273016102976} 60\n"
     ]
    },
    {
     "name": "stderr",
     "output_type": "stream",
     "text": [
      "100%|████████████████████████████████████████████████████████████████████████████████| 102/102 [01:13<00:00,  1.38it/s]\n",
      "  0%|                                                                                          | 0/102 [00:00<?, ?it/s]"
     ]
    },
    {
     "name": "stdout",
     "output_type": "stream",
     "text": [
      "{'ner': 38.22971318158304} 61\n"
     ]
    },
    {
     "name": "stderr",
     "output_type": "stream",
     "text": [
      "100%|████████████████████████████████████████████████████████████████████████████████| 102/102 [01:00<00:00,  1.68it/s]\n",
      "  0%|                                                                                          | 0/102 [00:00<?, ?it/s]"
     ]
    },
    {
     "name": "stdout",
     "output_type": "stream",
     "text": [
      "{'ner': 43.372185377470956} 62\n"
     ]
    },
    {
     "name": "stderr",
     "output_type": "stream",
     "text": [
      "100%|████████████████████████████████████████████████████████████████████████████████| 102/102 [00:59<00:00,  1.70it/s]\n",
      "  0%|                                                                                          | 0/102 [00:00<?, ?it/s]"
     ]
    },
    {
     "name": "stdout",
     "output_type": "stream",
     "text": [
      "{'ner': 21.40348908226446} 63\n"
     ]
    },
    {
     "name": "stderr",
     "output_type": "stream",
     "text": [
      "100%|████████████████████████████████████████████████████████████████████████████████| 102/102 [00:57<00:00,  1.79it/s]\n",
      "  0%|                                                                                          | 0/102 [00:00<?, ?it/s]"
     ]
    },
    {
     "name": "stdout",
     "output_type": "stream",
     "text": [
      "{'ner': 40.42168121232173} 64\n"
     ]
    },
    {
     "name": "stderr",
     "output_type": "stream",
     "text": [
      "100%|████████████████████████████████████████████████████████████████████████████████| 102/102 [00:57<00:00,  1.78it/s]\n",
      "  0%|                                                                                          | 0/102 [00:00<?, ?it/s]"
     ]
    },
    {
     "name": "stdout",
     "output_type": "stream",
     "text": [
      "{'ner': 66.88239369119216} 65\n"
     ]
    },
    {
     "name": "stderr",
     "output_type": "stream",
     "text": [
      "100%|████████████████████████████████████████████████████████████████████████████████| 102/102 [00:58<00:00,  1.73it/s]\n",
      "  0%|                                                                                          | 0/102 [00:00<?, ?it/s]"
     ]
    },
    {
     "name": "stdout",
     "output_type": "stream",
     "text": [
      "{'ner': 32.15808239173522} 66\n"
     ]
    },
    {
     "name": "stderr",
     "output_type": "stream",
     "text": [
      "100%|████████████████████████████████████████████████████████████████████████████████| 102/102 [00:57<00:00,  1.77it/s]\n",
      "  0%|                                                                                          | 0/102 [00:00<?, ?it/s]"
     ]
    },
    {
     "name": "stdout",
     "output_type": "stream",
     "text": [
      "{'ner': 50.11853359103308} 67\n"
     ]
    },
    {
     "name": "stderr",
     "output_type": "stream",
     "text": [
      "100%|████████████████████████████████████████████████████████████████████████████████| 102/102 [00:52<00:00,  1.95it/s]\n",
      "  0%|                                                                                          | 0/102 [00:00<?, ?it/s]"
     ]
    },
    {
     "name": "stdout",
     "output_type": "stream",
     "text": [
      "{'ner': 16.56133423310547} 68\n"
     ]
    },
    {
     "name": "stderr",
     "output_type": "stream",
     "text": [
      "100%|████████████████████████████████████████████████████████████████████████████████| 102/102 [00:50<00:00,  2.01it/s]\n",
      "  0%|                                                                                          | 0/102 [00:00<?, ?it/s]"
     ]
    },
    {
     "name": "stdout",
     "output_type": "stream",
     "text": [
      "{'ner': 29.998630428736824} 69\n"
     ]
    },
    {
     "name": "stderr",
     "output_type": "stream",
     "text": [
      "100%|████████████████████████████████████████████████████████████████████████████████| 102/102 [00:53<00:00,  1.91it/s]\n",
      "  0%|                                                                                          | 0/102 [00:00<?, ?it/s]"
     ]
    },
    {
     "name": "stdout",
     "output_type": "stream",
     "text": [
      "{'ner': 42.394026448285835} 70\n"
     ]
    },
    {
     "name": "stderr",
     "output_type": "stream",
     "text": [
      "100%|████████████████████████████████████████████████████████████████████████████████| 102/102 [00:50<00:00,  2.01it/s]\n",
      "  0%|                                                                                          | 0/102 [00:00<?, ?it/s]"
     ]
    },
    {
     "name": "stdout",
     "output_type": "stream",
     "text": [
      "{'ner': 19.064526078867456} 71\n"
     ]
    },
    {
     "name": "stderr",
     "output_type": "stream",
     "text": [
      " 27%|██████████████████████▏                                                          | 28/102 [00:14<00:39,  1.88it/s]\n"
     ]
    },
    {
     "ename": "KeyboardInterrupt",
     "evalue": "",
     "output_type": "error",
     "traceback": [
      "\u001b[1;31m---------------------------------------------------------------------------\u001b[0m",
      "\u001b[1;31mKeyboardInterrupt\u001b[0m                         Traceback (most recent call last)",
      "\u001b[1;32m<ipython-input-57-e28dc518b5e5>\u001b[0m in \u001b[0;36m<module>\u001b[1;34m\u001b[0m\n\u001b[0;32m     15\u001b[0m                 \u001b[0mdrop\u001b[0m\u001b[1;33m=\u001b[0m\u001b[1;36m0.5\u001b[0m\u001b[1;33m,\u001b[0m\u001b[1;33m\u001b[0m\u001b[1;33m\u001b[0m\u001b[0m\n\u001b[0;32m     16\u001b[0m                 \u001b[0msgd\u001b[0m\u001b[1;33m=\u001b[0m\u001b[0moptimizer\u001b[0m\u001b[1;33m,\u001b[0m\u001b[1;33m\u001b[0m\u001b[1;33m\u001b[0m\u001b[0m\n\u001b[1;32m---> 17\u001b[1;33m                 losses=losses)\n\u001b[0m\u001b[0;32m     18\u001b[0m         \u001b[0mprint\u001b[0m\u001b[1;33m(\u001b[0m\u001b[0mlosses\u001b[0m\u001b[1;33m,\u001b[0m\u001b[0mitn\u001b[0m\u001b[1;33m)\u001b[0m\u001b[1;33m\u001b[0m\u001b[1;33m\u001b[0m\u001b[0m\n",
      "\u001b[1;32m~\\miniconda3\\envs\\tensorflow\\lib\\site-packages\\spacy\\language.py\u001b[0m in \u001b[0;36mupdate\u001b[1;34m(self, docs, golds, drop, sgd, losses, component_cfg)\u001b[0m\n\u001b[0;32m    529\u001b[0m             \u001b[0mproc\u001b[0m\u001b[1;33m.\u001b[0m\u001b[0mupdate\u001b[0m\u001b[1;33m(\u001b[0m\u001b[0mdocs\u001b[0m\u001b[1;33m,\u001b[0m \u001b[0mgolds\u001b[0m\u001b[1;33m,\u001b[0m \u001b[0msgd\u001b[0m\u001b[1;33m=\u001b[0m\u001b[0mget_grads\u001b[0m\u001b[1;33m,\u001b[0m \u001b[0mlosses\u001b[0m\u001b[1;33m=\u001b[0m\u001b[0mlosses\u001b[0m\u001b[1;33m,\u001b[0m \u001b[1;33m**\u001b[0m\u001b[0mkwargs\u001b[0m\u001b[1;33m)\u001b[0m\u001b[1;33m\u001b[0m\u001b[1;33m\u001b[0m\u001b[0m\n\u001b[0;32m    530\u001b[0m             \u001b[1;32mfor\u001b[0m \u001b[0mkey\u001b[0m\u001b[1;33m,\u001b[0m \u001b[1;33m(\u001b[0m\u001b[0mW\u001b[0m\u001b[1;33m,\u001b[0m \u001b[0mdW\u001b[0m\u001b[1;33m)\u001b[0m \u001b[1;32min\u001b[0m \u001b[0mgrads\u001b[0m\u001b[1;33m.\u001b[0m\u001b[0mitems\u001b[0m\u001b[1;33m(\u001b[0m\u001b[1;33m)\u001b[0m\u001b[1;33m:\u001b[0m\u001b[1;33m\u001b[0m\u001b[1;33m\u001b[0m\u001b[0m\n\u001b[1;32m--> 531\u001b[1;33m                 \u001b[0msgd\u001b[0m\u001b[1;33m(\u001b[0m\u001b[0mW\u001b[0m\u001b[1;33m,\u001b[0m \u001b[0mdW\u001b[0m\u001b[1;33m,\u001b[0m \u001b[0mkey\u001b[0m\u001b[1;33m=\u001b[0m\u001b[0mkey\u001b[0m\u001b[1;33m)\u001b[0m\u001b[1;33m\u001b[0m\u001b[1;33m\u001b[0m\u001b[0m\n\u001b[0m\u001b[0;32m    532\u001b[0m \u001b[1;33m\u001b[0m\u001b[0m\n\u001b[0;32m    533\u001b[0m     \u001b[1;32mdef\u001b[0m \u001b[0mrehearse\u001b[0m\u001b[1;33m(\u001b[0m\u001b[0mself\u001b[0m\u001b[1;33m,\u001b[0m \u001b[0mdocs\u001b[0m\u001b[1;33m,\u001b[0m \u001b[0msgd\u001b[0m\u001b[1;33m=\u001b[0m\u001b[1;32mNone\u001b[0m\u001b[1;33m,\u001b[0m \u001b[0mlosses\u001b[0m\u001b[1;33m=\u001b[0m\u001b[1;32mNone\u001b[0m\u001b[1;33m,\u001b[0m \u001b[0mconfig\u001b[0m\u001b[1;33m=\u001b[0m\u001b[1;32mNone\u001b[0m\u001b[1;33m)\u001b[0m\u001b[1;33m:\u001b[0m\u001b[1;33m\u001b[0m\u001b[1;33m\u001b[0m\u001b[0m\n",
      "\u001b[1;31mKeyboardInterrupt\u001b[0m: "
     ]
    }
   ],
   "source": [
    "for _, annotations in TRAIN_DATA:\n",
    "    for ent in annotations.get('entities'):\n",
    "        ner.add_label(ent[2])\n",
    "\n",
    "other_pipes = [pipe for pipe in nlp.pipe_names if pipe != 'ner']\n",
    "with nlp.disable_pipes(*other_pipes):  # only train NER\n",
    "    optimizer = nlp.begin_training()\n",
    "    for itn in range(n_iter):\n",
    "        random.shuffle(TRAIN_DATA)\n",
    "        losses = {}\n",
    "        for text, annotations in tqdm(TRAIN_DATA):\n",
    "            nlp.update(\n",
    "                [text],  \n",
    "                [annotations],  \n",
    "                drop=0.5,  \n",
    "                sgd=optimizer,\n",
    "                losses=losses)\n",
    "        print(losses,itn)"
   ]
  },
  {
   "cell_type": "code",
   "execution_count": 62,
   "metadata": {},
   "outputs": [],
   "source": [
    "output_dir=Path(\"C:\\\\Users\\\\Sivaraman\\\\Desktop\\\\Py_projects\\\\spacy_models\\\\model_2\")\n",
    "nlp.to_disk(output_dir)"
   ]
  },
  {
   "cell_type": "code",
   "execution_count": 58,
   "metadata": {},
   "outputs": [
    {
     "name": "stdout",
     "output_type": "stream",
     "text": [
      "Entities []\n",
      "Entities []\n",
      "Entities []\n",
      "Entities [('Chung Khiaw Bank', 'TN')]\n",
      "Entities []\n",
      "Entities []\n",
      "Entities [('Aspial', 'LN')]\n",
      "Entities []\n",
      "Entities [('Alliance Boots', 'LN'), ('11 Chemin Des Bateliers', 'LA'), ('Aquitaine', 'LCI'), ('France', 'LCO'), ('64600(“Alliance”', 'LCO'), ('BNP Paribas', 'TN'), (\"99 Avenue des Pr'es\", 'TA'), ('Auvergne', 'TCI'), ('France', 'TCO')]\n",
      "Entities [('Aetos Security Management', 'LN'), ('10 Shenton Way MAS Building', 'LA'), ('Singapore', 'LC'), ('079117', 'LP'), ('Bank of Singapore', 'TN'), ('63 Market Street', 'TA'), ('Singapore', 'TC'), ('876345', 'TP')]\n",
      "Entities [('Exelon', 'LN'), ('2706 Rollins Road', 'LA'), ('Nebraska', 'LCI'), ('United States', 'LCO'), ('U.S. Bancorp', 'TN'), ('3699 Bryan Street', 'TA'), ('North Carolina', 'TCI'), ('United States', 'TCO')]\n",
      "Entities []\n",
      "Entities []\n",
      "Entities [('Boustead', 'LN')]\n",
      "Entities [('United Overseas Bank', 'TN')]\n",
      "Entities []\n",
      "Entities []\n",
      "Entities [('the Housing and Development Board of HDB Hub', 'LN'), ('480 Lorong 6 Toa Payoh', 'LA'), ('Singapore', 'LC'), ('310480', 'LP'), ('DBS Bank Ltd', 'TN'), ('12 Marina Boulevard', 'TA'), ('Singapore', 'TC'), ('018982', 'TP')]\n",
      "Entities [('Indian Bank', 'TN')]\n",
      "Entities [('Indian Bank', 'TN')]\n",
      "Entities [('HDB', 'LN')]\n",
      "Entities []\n",
      "Entities []\n",
      "Entities []\n",
      "Entities []\n",
      "Entities [('Nucor', 'LN'), ('4342 Gandy Street', 'LA'), ('New York', 'LCI'), ('United States', 'LCO'), ('BMO Harris Bank', 'TN'), ('1443 Lewis Street', 'TA'), ('Illinois', 'TCI'), ('United States', 'TCO')]\n",
      "Entities []\n",
      "Entities []\n",
      "Entities [('Pfizer', 'LN'), ('3146 Brown Bear Drive', 'LA'), ('California', 'LCI'), ('United States', 'LCO'), ('Bank of America', 'TN'), ('4281 Roosevelt Street', 'TA'), ('California', 'TCI'), ('United States', 'TCO')]\n",
      "Entities []\n",
      "Entities []\n",
      "Entities []\n",
      "Entities []\n",
      "Entities []\n",
      "Entities []\n",
      "Entities []\n",
      "Entities []\n",
      "Entities [('Amgen', 'LN'), ('1122 Brown Bear Drive', 'LA'), ('California', 'LCI'), ('United States', 'LCO'), ('The Bank of New York Mellon', 'TN'), ('1577 Rainy Day Drive', 'TA'), ('Massachusetts', 'TCI'), ('United States', 'TCO')]\n",
      "Entities []\n",
      "Entities []\n",
      "Entities [('OCBC Bank', 'TN')]\n",
      "Entities [('Trafigura Group', 'LN'), ('52 Greenleaf Drive', 'LA'), ('Singapore', 'LC'), ('893283', 'LP'), ('Trafigura', 'LN'), ('Hongkong and Shanghai Banking Corporation', 'TN'), ('21 Collyer Quay', 'TA'), ('Singapore', 'TC'), ('982783', 'TP')]\n",
      "Entities []\n",
      "Entities []\n",
      "Entities []\n",
      "Entities []\n",
      "Entities []\n",
      "Entities []\n",
      "Entities [('Paccar', 'LN'), ('172 Kenwood Place', 'LA'), ('Florida', 'LCI'), ('United States', 'LCO'), ('Capital One', 'TN'), ('3172 Lilac Lane', 'TA'), ('Iowa', 'TCI'), ('United States', 'TCO')]\n",
      "Entities []\n",
      "Entities [('AIBI', 'LN')]\n",
      "Entities []\n",
      "Entities []\n",
      "Entities [('Bank of Singapore', 'TN')]\n",
      "Entities []\n",
      "Entities []\n",
      "Entities []\n",
      "Entities [('Duke Energy', 'LN'), ('1211 Woodbridge Lane', 'LA'), ('Michigan', 'LCI'), ('United States', 'LCO'), ('State Street Corporation', 'TN'), ('453 Adamsville Road', 'TA'), ('North Dakota', 'TCI'), ('United States', 'TCO')]\n",
      "Entities []\n",
      "Entities []\n",
      "Entities []\n",
      "Entities []\n",
      "Entities []\n",
      "Entities []\n",
      "Entities []\n",
      "Entities []\n",
      "Entities [('DBS Bank Ltd', 'TN')]\n",
      "Entities []\n",
      "Entities []\n",
      "Entities []\n",
      "Entities []\n",
      "Entities [('Wilmar International', 'LN'), ('460 Alexandra Road 22-06 PSA Building', 'LA'), ('Singapore', 'LC'), ('456384', 'LP'), ('Wilmar', 'LN'), ('Chung Khiaw Bank', 'TN'), ('180 Cecil Street', 'TA'), ('Singapore', 'TC'), ('018982', 'TP')]\n",
      "Entities [('Sysco', 'LN'), ('1813 Wakefield Street', 'LA'), ('Pennsylvania', 'LCI'), ('United States', 'LCO'), ('JPMorgan Chase', 'TN'), ('3732 Kennedy Court', 'TA'), ('Maine', 'TCI'), ('United States', 'TCO')]\n",
      "Entities [('Aetos', 'LN')]\n",
      "Entities [('Glencore', 'LN'), ('57 Golf Road', 'LA'), ('Swintonmill', 'LCI'), ('United Kingdom', 'LCO'), ('HSBC', 'TN'), ('24 Old Edinburgh Road', 'TA'), ('Beech', 'TCI'), ('United Kingdom', 'TCO')]\n",
      "Entities [('John Deere', 'LN'), ('1987 Warner Street', 'LA'), ('North Carolina', 'LCI'), ('United States', 'LCO'), ('Citigroup', 'TN'), ('1440 Hershell Hollow Road', 'TA'), ('New Jersey', 'TCI'), ('United States', 'TCO')]\n",
      "Entities [('Abbott Laboratories', 'LN'), ('2342 Jones Avenue', 'LA'), ('Oklahoma', 'LCI'), ('United States', 'LCO'), ('Truist Financial', 'TN'), ('4425 Barrington Court', 'TA'), ('Arkansas', 'TCI'), ('United States', 'TCO')]\n",
      "Entities []\n",
      "Entities []\n",
      "Entities []\n",
      "Entities []\n",
      "Entities []\n",
      "Entities []\n",
      "Entities []\n",
      "Entities [('Wilmar', 'LN')]\n",
      "Entities []\n",
      "Entities []\n",
      "Entities [('USAA', 'LN'), ('90 Maple Street', 'LA'), ('California', 'LCI'), ('United States', 'LCO'), ('Morgan Stanley', 'TN'), ('2713 Ritter Avenue', 'TA'), ('Michigan', 'TCI'), ('United States', 'TCO')]\n",
      "Entities [('Hongkong and Shanghai Banking Corporation', 'TN')]\n",
      "Entities []\n",
      "Entities [('Ayam', 'LN')]\n",
      "Entities [('AIBI International', 'LN'), ('10 Sinaran Drive, 02-02 Square 2', 'LA'), ('Singapore', 'LC'), ('847278', 'LP'), ('AIBI', 'LN'), ('Indian Bank', 'TN'), ('3 Raffles Place', 'TA'), ('Singapore', 'TC'), ('823412', 'TP')]\n",
      "Entities [('Boustead Singapore', 'LN'), ('6001 Beach Road 02-37 Golden Mile Tower', 'LA'), ('Singapore', 'LC'), ('847278', 'LP'), ('Boustead', 'LN'), ('Ping An Bank', 'TN'), ('80 Pasir Panjang Road', 'TA'), ('Singapore', 'TC'), ('987234', 'TP')]\n",
      "Entities [('Raytheon Company', 'LN'), ('362 Libby Street', 'LA'), ('California', 'LCI'), ('United States', 'LCO'), ('PNC Financial Services', 'TN'), ('3206 Hart Ridge Road', 'TA'), ('Michigan', 'TCI'), ('United States', 'TCO')]\n",
      "Entities [('Aspial Corporation', 'LN'), ('101 kitchener road 02-17 jalan besar plaza', 'LA'), ('Singapore', 'LC'), ('310480', 'LP'), ('OCBC Bank', 'TN'), ('65 Chulia Street', 'TA'), ('Singapore', 'TC'), ('987123', 'TP')]\n",
      "Entities [('Baker Hughes', 'LN'), ('4943 Liberty Avenue', 'LA'), ('California', 'LCI'), ('United States', 'LCO'), ('TIAA', 'TN'), ('200 Stoney Lonesome Road', 'TA'), ('New York', 'TCI'), ('United States', 'TCO')]\n",
      "Entities [('Trafigura', 'LN')]\n",
      "Entities [('Ayam Brand', 'LN'), ('MDIS Building 190 Changi Road #02-01', 'LA'), ('Singapore', 'LC'), ('456345', 'LP'), ('United Overseas Bank', 'TN'), ('80 Raffles Place', 'TA'), ('Singapore', 'TC'), ('786409', 'TP')]\n",
      "Entities [('Aflac', 'LN'), ('773 Calvin Street', 'LA'), ('Washington', 'LCI'), ('United States', 'LCO'), ('State Farm', 'TN'), ('38 Taylor Street', 'TA'), ('New York', 'TCI'), ('United States', 'TCO')]\n",
      "Entities [('Tech Data', 'LN'), ('3636 Joseph Street', 'LA'), ('Wisconsin', 'LCI'), ('United States', 'LCO'), ('Wells Fargo', 'TN'), ('2931 Hillcrest Avenue', 'TA'), ('Massachusetts', 'TCI'), ('United States', 'TCO')]\n",
      "Entities [('Publix', 'LN'), ('945 Harvest Lane', 'LA'), ('California', 'LCI'), ('United States', 'LCO'), ('Goldman Sachs', 'TN'), ('Walnut Hill Drive', 'TA'), ('Ohio', 'TCI'), ('United States', 'TCO')]\n",
      "Entities [('Centrica', 'LN'), ('13 Fox Lane', 'LA'), ('Bodham Street', 'LCI'), ('United Kingdom', 'LCO'), ('Barclays', 'TN'), ('86 Simone Weil Avenue', 'TA'), ('Well', 'TCI'), ('United Kingdom', 'TCO')]\n"
     ]
    }
   ],
   "source": [
    "for text, _ in TRAIN_DATA:\n",
    "    doc = nlp(text)\n",
    "    print('Entities', [(ent.text, ent.label_) for ent in doc.ents])"
   ]
  },
  {
   "cell_type": "code",
   "execution_count": 60,
   "metadata": {},
   "outputs": [
    {
     "name": "stdout",
     "output_type": "stream",
     "text": [
      "SAM tee PAID\n",
      "on HHO bok\n",
      "HOB CASH OFFICE\n",
      "\n",
      "TEMPORARY OCCUPATION LICENCE FOR\n",
      "AUTOMATED TELLER MACHINES\n",
      "\n",
      "This Licence Agreement is made on the hig day of spre mM ber - OS\n",
      "between the Housing and Development Board of HDB Hub, 480 Lorong 6 Toa Payoh Singapore\n",
      "310480 (“HDB”) and DBS Bank Ltd (UEN No : 196800306E) of 12 Marina Boulevard Singapore\n",
      "\n",
      "018982 (“Licensee”).\n",
      "\n",
      "WHEREAS HDB has agreed to grant to the Licensee a Licence to use and occupy the space at\n",
      "Blk 18 Toh Yi Drive #01-113A Singapore 590018 (herein referred to as \"Premises\") subject to\n",
      "the terms and conditions of this Agreement.\n",
      "\n",
      "It is hereby agreed as follows:\n",
      "\n",
      "1 In consideration of the payment by the Licensee a sum of $800.00 per month (exclusive\n",
      "of Goods and Services Tax) or such other sum as the HDB may notify in writing, HDB\n",
      "hereby authorises the Licensee to use and occupy the Premises for the sole purpose of\n",
      "setting up and maintaining an Automated Teller Machine (ATM) for a period of 3 years\n",
      "commencing from 01/12/2018, subject to renewal, at the discretion of HDB, and upon\n",
      "such terms and conditions as may be imposed by HDB. The licensee is required to give a\n",
      "written request to HDB 2 month prior to the expiry of this TOL to inform of their intention to\n",
      "renew this TOL.\n",
      "\n",
      "2 The Licensee hereby also undertakes with HDB as follows:\n",
      "(a) To pay without demand the monthly Licence fee and any other charges pursuant to\n",
      "the provisions of the Town Councils Act 1988 and any amendment thereto, or HDB,\n",
      "as the case may be. All payments, including of Goods and Services Tax (GST), are\n",
      "to be made on the 1st day of each month for that month.\n",
      "\n",
      "(b) To pay and indemnify HDB against GST chargeable in respect of any payment made\n",
      "by the Licensee under the terms of or in connection with this Agreement or in\n",
      "respect of any payment made by HDB where the Licensee has agreed to reimburse\n",
      "HDB for such payment.\n",
      "\n",
      "(c} Where applicable, to accept and pay the revised service and conservancy charges\n",
      "as may time to time varied by the Town Council pursuant to the Town Council Act or\n",
      "HDB pursuant to the Housing and Development Act, as the case may be.\n",
      "\n",
      "(d) lf the Licensee fails or neglects to pay the Licence Fees, service and conservancy\n",
      "charges and any other charges due at the time of the termination of the Agreement,\n",
      "to pay an interest at the rate of 12% per annum of the outstanding debt subject to a\n",
      "minimum of $50.00 or such other rate as HDB may from time to time and in its sole\n",
      "discretion, determined.\n",
      "\n",
      "(e) To pay on the execution of this Agreement, a sum of $856.00 or such other sum as\n",
      "may be determined by HDB being a deposit which is refundable free of interest by\n",
      "HDB to the Licensee at the expiry or termination of this Agreement. This deposit is to\n",
      "be subject however to all claims by HDB for arrears of Licence Fees and service and\n",
      "conservancy charges, charges for damaged or destroyed fixtures or fittings for\n",
      "repairs to and redecoration of the Premises howsoever occasioned other than by fair\n",
      "wear and tear of the cleaning of the Premises on their vacation by the Licensee and\n",
      "for all other breaches or non observance of covenants contained herein on the part\n",
      "of the Licensee to be performed and observed. The amount and nature of the said\n",
      "replacement of fitting repairs redecoration and cleaning and all claims of HDB are to\n",
      "\n",
      "X Fe\n",
      "\f",
      " \n",
      "\n",
      " \n",
      "\n",
      "10\n",
      "\n",
      "11\n",
      "\n",
      " \n",
      "\n",
      " \n",
      "\n",
      "be decided upon by HDB in its absolute discretion and the Licensee shail not dispute\n",
      "such sums. In the event of the deposit being insufficient to meet HDB’s claim, the\n",
      "Licensee shall compensate and pay HDB the difference between the said deposit\n",
      "and the amount so claimed by HDB.\n",
      "\n",
      "(f) where Licence Fees and/or service and conservancy and/or any other charges as\n",
      "may be imposed by HDB shall be in arrears whether wholly or in part and whether\n",
      "formally demanded or not, the Licensee shall pay to HDB such penalty or penalties\n",
      "for late payment/s as may be prescribed by HDB from time to time pursuant to\n",
      "section 27 of the Housing and Development Act (Chapter 129). The imposition of\n",
      "such penalty or penalties shall be without prejudice to any other right or action or\n",
      "remedy available to HDB by the terms of this Agreement and/or by law for any\n",
      "antecedent breach of covenant by the Licensee.\n",
      "\n",
      "(g) To pay all charges for the supply of water sanitation or electric light or power and all\n",
      "other utilities charges as may be determined by the SP Services Ltd to be payable\n",
      "from time to time.\n",
      "\n",
      "(h) The Licensee may apply to HDB to include new locations.\n",
      "\n",
      "(i) The terms and conditions of this agreement shall apply to each additional added by\n",
      "Licensee under Clause 2(h).\n",
      "\n",
      "The Licensee shall also not be entitled to any relocation benefits or benefits of any kind\n",
      "upon the expiry or termination of the Licence Agreement.\n",
      "\n",
      "The Licence shall not create a tenancy and shall not give the Licensee the exclusive right\n",
      "to the use and occupation of the Premises.\n",
      "\n",
      "The Licence is not transferable or assignable in any manner whatsoever.\n",
      "The Licence must be produced on demand to any authorised officer of HDB.\n",
      "\n",
      "The Licensee shall not carry out, suffer to be carried out or permit any alterations or\n",
      "structural changes whatsoever to the Premises without the prior written approval of HDB.\n",
      "\n",
      "(a) The Licensee shall keep the whole of the Premises in a clean, proper and sanitary\n",
      "condition to the satisfaction of HDB;\n",
      "\n",
      "(b) The Licensee shall be fully responsible for all equipment brought into the Premises\n",
      "by the Licensee and shall keep and maintain such equipment in good order and\n",
      "condition.\n",
      "\n",
      "The Licensee shall not place or permit to be placed, affixed or hung any article object or\n",
      "thing within or outside any part of the Premises without obtaining the prior written\n",
      "approval of HDB.\n",
      "\n",
      "The Licensee shall promptly comply with all conditions as may be imposed from time to\n",
      "time by HDB\n",
      "\n",
      "The Licensee remains in occupation of the Premises at its own risk. HDB accepts no\n",
      "liability whatsoever in the event of any injury or damage suffered by the Licensee or its\n",
      "employees, agents or any other person as a result of such occupation irrespective of\n",
      "whether such injury or damage is caused due to the negligence of any employee or agent\n",
      "of HDB or otherwise;\n",
      "\n",
      "X\n",
      "\f",
      " \n",
      "\n",
      " \n",
      "\n",
      "12\n",
      "\n",
      "13\n",
      "\n",
      "14\n",
      "\n",
      "15\n",
      "\n",
      "16\n",
      "\n",
      "17\n",
      "\n",
      "18\n",
      "\n",
      "19\n",
      "\n",
      "20\n",
      "\n",
      "21\n",
      "\n",
      "The Licensee shall hold HDB harmless and keep HDB indemnified, fully and completely\n",
      "at all times from and against any and all claims, demands, actions, proceedings,\n",
      "damages, costs, expenses, losses and other liabilities whatsoever including legal costs\n",
      "which HDB may suffer, incur or sustain due to, in connection with or arising whether\n",
      "directly or indirectly from the use and occupation of the Premises by the Licensee.\n",
      "\n",
      "HDB reserves the right to relocate the Licensee. The cost of relocation shall be borne by\n",
      "the Licensee\n",
      "\n",
      "The Licensee shall adopt and implement every reasonable precaution against the hazard\n",
      "of fire and shall comply with all recommendations of HDB as to fire safety measures as\n",
      "well as measures against any other hazards.\n",
      "\n",
      "The Licensee shall obtain the requisite approvals from the relevant authorities at the\n",
      "Licensee’s own cost. The use of the Premises is for the setting up and maintaining of\n",
      "Automated Teller Machine (ATM) and for no other purposes. Pending such approval or if\n",
      "approval is refused, the Licensee shall not be entitled to refund of any payments in\n",
      "whatsoever form made to HDB.\n",
      "\n",
      "The stamp fees (if any) in respect of the Licence shall be borne by the Licensee.\n",
      "\n",
      "The Licensee shall make good at its own costs and expenses in all respects and to the\n",
      "satisfaction of HDB any damage or deterioration occasioned to the Premises or any part\n",
      "of thereof or any adjacent or neighbouring premises or any part of the property of HDB\n",
      "due to or arising from any act default or negligence of the Licensee or invitees of the\n",
      "Licensee or any person who is authorised expressly or impliedly by the Licensee to enter\n",
      "into the Premises or any part thereof and to keep the HDB fully indemnified from and\n",
      "against all actions costs claims and liability whatsoever in respect thereof.\n",
      "\n",
      "(a) Either party may terminate this Agreement by giving one calendar month's notice to\n",
      "the other party without furnishing any reason whatsoever. Upon the cancellation or\n",
      "revocation of the Licence, HDB shall refund to the Licensee the Deposit without\n",
      "interest and subject to the deduction of any sum that may be due and owing from the\n",
      "Licensee to HDB, whether as indemnity or otherwise.\n",
      "\n",
      "(b) Notwithstanding Clause 18(a), the Licence may be revoked by HDB forthwith, if the\n",
      "Licensee commits a breach of any terms and conditions of this Agreement, and in\n",
      "the case of a remediable breach, fails to remedy such breach within the time limit\n",
      "specified in a written notice to be served on the Licensee by HDB.\n",
      "\n",
      "(a) Upon the expiry or termination of the Licence whether forthwith or otherwise, the\n",
      "Licensee shall at its own costs and expenses, restore the Premises to its original\n",
      "state to the satisfaction of the HDB. Where the Licensee shall fail to do so HDB shall\n",
      "have the right to restore the Premises to its original state and the cost thereof shall\n",
      "be recoverable forthwith as a debt due from the Licensee to the HDB.\n",
      "\n",
      "(b) Without prejudice to any of its rights and remedies against the Licensee, HDB may,\n",
      "at its discretion charge interest at the rate of twelve percent per annum, on any\n",
      "Licensee fees or other sums due and owing from the Licensee to HDB at the expiry\n",
      "or termination of this Agreement.\n",
      "\n",
      "Any notice or other communication between the parties shall be deemed to be sufficiently\n",
      "served on the day of service, if sent by fax or delivered at their respective addresses\n",
      "given in the opening paragraph, and two days after posting if sent by registered mail.\n",
      "\n",
      "This Agreement shall be governed by and construed according to Singapore law.\n",
      "\n",
      "x Fe\n",
      "\f",
      "22\n",
      "\n",
      " \n",
      "\n",
      "Any person, firm, corporation or organization who is not a party to this Agreement has no\n",
      "\n",
      "rights under the Contracts (Rights of Third Parties) Act to enforce any term of this\n",
      "\n",
      "Agreement.\n",
      "\n",
      "IN WITNESS WHEREOF the parties have signed this Agreement.\n",
      "\n",
      "THE SCHEDULE\n",
      "\n",
      "Floor Area of Premises — 15 sqm\n",
      "\n",
      "Signed by\n",
      "For and on behalf of the\n",
      "Housing & Development Board\n",
      "\n",
      "eee el\n",
      "\n",
      "  \n",
      "  \n",
      "\n",
      "High:\n",
      "\n",
      "In the presence of :\n",
      "Signed by / Right Thumb print\n",
      "\n",
      "2\n",
      "| JENNIFER THAM 2\n",
      "Xx VICE PRESIDENT +\n",
      "\n",
      "Name : enWiity! f\n",
      "\n",
      "NRIC No: Last ,\n",
      "\n",
      "For and on behalf of DBS Bank Ltd\n",
      "\n",
      " \n",
      "\n",
      "In the presence of\n",
      "\n",
      "NRIC No: >: gaeeRaAT).\n",
      "\n",
      "Properties & Lara Group\n",
      "Heusing &\n",
      "\n",
      " \n",
      "\n",
      "‘aalem oth Be senna ‘hu\n",
      "\n",
      "4amin £\n"
     ]
    }
   ],
   "source": [
    "text = op_txt_stp.strip()\n",
    "text = text.rstrip()\n",
    "text = text.lstrip()\n",
    "print(text)"
   ]
  },
  {
   "cell_type": "code",
   "execution_count": 8,
   "metadata": {},
   "outputs": [
    {
     "name": "stdout",
     "output_type": "stream",
     "text": [
      "the Housing and Development Board of HDB Hub LN\n",
      "480 Lorong 6 Toa Payoh LA\n",
      "Singapore LC\n",
      "310480 LP\n",
      "HDB LN\n",
      "DBS Bank Ltd TN\n",
      "12 Marina Boulevard TA\n",
      "Singapore TC\n",
      "018982 TP\n",
      "Housing and Development Act TN\n",
      "12% per TA\n",
      "the execution TA\n",
      "the Housing and TA\n",
      "Development TC\n",
      "Act TP\n",
      "the Licence may LN\n",
      "and in LCI\n",
      "HDB LN\n",
      "DBS Bank Ltd TN\n",
      "Be senna ‘hu\n",
      "\n",
      "4amin £ TA\n"
     ]
    }
   ],
   "source": [
    "output_dir=Path(\"C:\\\\Users\\\\Sivaraman\\\\Desktop\\\\Py_projects\\\\spacy_models\\\\model_2\")\n",
    "model = spacy.load(output_dir)\n",
    "nlp1 = spacy.load(\"en_core_web_sm\")\n",
    "#doc = nlp(text)\n",
    "doc = model(text.strip())\n",
    "LN = []\n",
    "LA = []\n",
    "LC = []\n",
    "LP = []\n",
    "TN = []\n",
    "TA = []\n",
    "TC = []\n",
    "TP = []\n",
    "for ent in doc.ents:\n",
    "    if ent.label_ == \"LN\":\n",
    "        doc1 = nlp1(ent.text.rstrip())\n",
    "        if(doc1.ents):\n",
    "            if(doc1.ents[0].label_==\"ORG\") and len(LN)==0:\n",
    "                LN.append(ent.text)\n",
    "    elif ent.label_ == \"TN\":\n",
    "        doc1 = nlp1(ent.text.rstrip())\n",
    "        if(doc1.ents):\n",
    "            if(doc1.ents[0].label_==\"ORG\") and len(TN)==0:\n",
    "                TN.append(ent.text)\n",
    "    elif ent.label_ == \"LC\":\n",
    "        doc1 = nlp1(ent.text.rstrip())\n",
    "        if(doc1.ents):\n",
    "            if(doc1.ents[0].label_==\"GPE\") and len(LC)==0:\n",
    "                LC.append(ent.text)\n",
    "    elif ent.label_ == \"TC\":\n",
    "        doc1 = nlp1(ent.text.rstrip())\n",
    "        if(doc1.ents):\n",
    "            if(doc1.ents[0].label_==\"GPE\") and len(TC)==0:\n",
    "                TC.append(ent.text)\n",
    "    elif ent.label_ == \"LA\":\n",
    "        doc1 = nlp1(ent.text.rstrip())\n",
    "        if(doc1.ents):\n",
    "            if(doc1.ents[0].label_==\"CARDINAL\") and len(LA)==0:\n",
    "                LA.append(ent.text)\n",
    "    elif ent.label_ == \"TA\":\n",
    "        doc1 = nlp1(ent.text.rstrip())\n",
    "        if(doc1.ents):\n",
    "            if(doc1.ents[0].label_==\"CARDINAL\") and len(TA)==0:\n",
    "                TA.append(ent.text)\n",
    "    elif ent.label_ == \"LP\":\n",
    "        doc1 = nlp1(ent.text.rstrip())\n",
    "        if(doc1.ents):\n",
    "            if(doc1.ents[0].label_==\"CARDINAL\") and len(doc1.ents[0].text)==6 and len(LP)==0:\n",
    "                LP.append(ent.text)\n",
    "    elif ent.label_ == \"TP\":\n",
    "        doc1 = nlp1(ent.text.rstrip())\n",
    "        if(doc1.ents):\n",
    "            if(doc1.ents[0].label_==\"CARDINAL\") and len(doc1.ents[0].text)==6 and len(TP)==0:\n",
    "                TP.append(ent.text)\n",
    "        \n",
    "    print(ent.text.rstrip() , ent.label_)"
   ]
  },
  {
   "cell_type": "code",
   "execution_count": 120,
   "metadata": {},
   "outputs": [],
   "source": [
    "output=[]\n",
    "output.append(LN)\n",
    "output.append(LA)\n",
    "output.append(LC)\n",
    "output.append(LP)\n",
    "output.append(TN)\n",
    "output.append(TA)\n",
    "output.append(TC)\n",
    "output.append(TP)"
   ]
  },
  {
   "cell_type": "code",
   "execution_count": 121,
   "metadata": {},
   "outputs": [
    {
     "name": "stdout",
     "output_type": "stream",
     "text": [
      "['the Housing and Development Board of HDB Hub']\n",
      "['480 Lorong 6 Toa Payoh']\n",
      "['Singapore']\n",
      "['310480']\n",
      "['DBS Bank Ltd']\n",
      "['12 Marina Boulevard']\n",
      "[]\n",
      "[]\n"
     ]
    }
   ],
   "source": [
    "for i in output:\n",
    "    print(i)"
   ]
  },
  {
   "cell_type": "code",
   "execution_count": 118,
   "metadata": {},
   "outputs": [
    {
     "name": "stdout",
     "output_type": "stream",
     "text": [
      "CARDINAL\n",
      "2\n"
     ]
    }
   ],
   "source": [
    "doc1 = nlp1(\"12 Marina Boulevard\")\n",
    "l = doc1.ents\n",
    "if(doc1.ents):\n",
    "    print(doc1.ents[0].label_)\n",
    "    print(len(doc1.ents[0].text))\n",
    "# if(doc1.ents):\n",
    "#     if(doc1.ents[0].label_==\"ORG\"):\n",
    "#         print(\"LN\")\n",
    "#         LN.append(ent.text)"
   ]
  },
  {
   "cell_type": "code",
   "execution_count": 10,
   "metadata": {},
   "outputs": [
    {
     "data": {
      "text/plain": [
       "'Numerals that do not fall under another type'"
      ]
     },
     "execution_count": 10,
     "metadata": {},
     "output_type": "execute_result"
    }
   ],
   "source": [
    "spacy.explain(\"CARDINAL\")"
   ]
  }
 ],
 "metadata": {
  "kernelspec": {
   "display_name": "Python 3",
   "language": "python",
   "name": "python3"
  },
  "language_info": {
   "codemirror_mode": {
    "name": "ipython",
    "version": 3
   },
   "file_extension": ".py",
   "mimetype": "text/x-python",
   "name": "python",
   "nbconvert_exporter": "python",
   "pygments_lexer": "ipython3",
   "version": "3.7.6"
  }
 },
 "nbformat": 4,
 "nbformat_minor": 4
}
